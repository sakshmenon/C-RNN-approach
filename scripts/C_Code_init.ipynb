{
 "cells": [
  {
   "cell_type": "code",
   "execution_count": 1,
   "metadata": {},
   "outputs": [],
   "source": [
    "import os\n",
    "import pandas as pd"
   ]
  },
  {
   "cell_type": "code",
   "execution_count": 2,
   "metadata": {},
   "outputs": [],
   "source": [
    "df = pd.read_excel(\"/Users/saksh.menon/Documents/GitHub/C-RNN-approach/Labels/Labelling_Prateek_Guillermo.xlsx\")"
   ]
  },
  {
   "cell_type": "code",
   "execution_count": 39,
   "metadata": {},
   "outputs": [
    {
     "data": {
      "text/plain": [
       "Index(['File', 'Comment', 'Branch', 'Constant Coding', 'Default Fail',\n",
       "       'Detect', 'Double Check', 'Loop Check', ' Bypass', 'Notes',\n",
       "       'False Positive', 'Unnamed: 11', 'Lines Missed', 'Branch.1',\n",
       "       'Constant Coding.1', 'Default Fail.1', 'Detect.1', 'Double Check.1',\n",
       "       'Loop Check.1', 'Bypass', 'Notes.1', 'Unnamed: 21', 'Unnamed: 22',\n",
       "       'TOTAL POSITIVES', 'TRUE POSITIVES', 'FALSE POSITIVES',\n",
       "       'FALSE NEGATIVES', 'Precision', 'Recall'],\n",
       "      dtype='object')"
      ]
     },
     "execution_count": 39,
     "metadata": {},
     "output_type": "execute_result"
    }
   ],
   "source": [
    "df['Lines Missed']"
   ]
  },
  {
   "cell_type": "code",
   "execution_count": 44,
   "metadata": {},
   "outputs": [],
   "source": [
    "file_start = {}\n",
    "for i in range(len(df['File'])):\n",
    "    if pd.isnull(df['File'][i]) == False:\n",
    "        file_start[df['File'][i]] = i\n",
    "\n",
    "BOTTOM_LINE = file_start['TOTAL NO. OF FILES']\n",
    "file_list = list(file_start.keys())[:-2]\n",
    "file_vulnerabilities = {}\n",
    "\n",
    "for i in range(len(file_list)-1):\n",
    "    vulnerable_lines=[]\n",
    "    for j in range(file_start[file_list[i]],file_start[file_list[i+1]]-1):\n",
    "        if (df['Comment'][j].split('|')[1].split()[0]) == \"BRANCH:\":\n",
    "            if (pd.isna(df.at[j,'False Positive'])):\n",
    "                vulnerable_lines.append(df['Comment'][j].split('|')[0].split()[1])\n",
    "        if (not(pd.isna(df.at[j,'Lines Missed']))):\n",
    "            if (not(pd.isna(df.at[j,'Branch.1']))):\n",
    "                vulnerable_lines.append(df['Lines Missed'][j].split()[0])\n",
    "    vulnerable_lines.sort()\n",
    "    file_vulnerabilities[file_list[i]]=vulnerable_lines"
   ]
  },
  {
   "cell_type": "code",
   "execution_count": 45,
   "metadata": {},
   "outputs": [
    {
     "data": {
      "text/plain": [
       "{'AX3_Firmware main.c': ['223',\n",
       "  '287',\n",
       "  '304',\n",
       "  '377',\n",
       "  '382',\n",
       "  '385',\n",
       "  '408',\n",
       "  '410',\n",
       "  '416',\n",
       "  '424',\n",
       "  '541',\n",
       "  '564',\n",
       "  '587',\n",
       "  '588',\n",
       "  '621',\n",
       "  '646',\n",
       "  '647',\n",
       "  '653',\n",
       "  '660',\n",
       "  '664',\n",
       "  '667',\n",
       "  '732',\n",
       "  '753',\n",
       "  '756'],\n",
       " 'ESP8266-Firmware main.c': ['143'],\n",
       " 'Firmament-Autopilot i2c_core.c': ['135', '52'],\n",
       " 'Hardware-Bitcoin-Wallet xex.c': ['223', '411', '439', '446'],\n",
       " 'iotkit-embedded iotx_http_api.c': ['377',\n",
       "  '435',\n",
       "  '448',\n",
       "  '453',\n",
       "  '545',\n",
       "  '549',\n",
       "  '595',\n",
       "  '658',\n",
       "  '658',\n",
       "  '664',\n",
       "  '734'],\n",
       " 'm2_fingerprint main.c': ['110', '99'],\n",
       " 'mbd-arduino-cashless mdb.c': ['185',\n",
       "  '262',\n",
       "  '290',\n",
       "  '471',\n",
       "  '517',\n",
       "  '644',\n",
       "  '686',\n",
       "  '716',\n",
       "  '748',\n",
       "  '802'],\n",
       " 'MicroBros-SmartHome main.c': ['100', '61', '87'],\n",
       " 'microFourQ schnorrq.c': ['107', '163', '27', '83', '97'],\n",
       " 'rauc crypt.c': ['86'],\n",
       " 'sef-project main.c': ['116',\n",
       "  '117',\n",
       "  '122',\n",
       "  '130',\n",
       "  '135',\n",
       "  '151',\n",
       "  '154',\n",
       "  '165',\n",
       "  '170',\n",
       "  '195',\n",
       "  '210',\n",
       "  '265',\n",
       "  '316',\n",
       "  'LINE'],\n",
       " 'Smart_Door_Lock main.c': ['102', '110', '81'],\n",
       " 'SmartLock_HardwareDriver main.c': ['141',\n",
       "  '149',\n",
       "  '204',\n",
       "  '219',\n",
       "  '251',\n",
       "  '260',\n",
       "  '294',\n",
       "  '311',\n",
       "  'Line',\n",
       "  'Line',\n",
       "  'Line',\n",
       "  'Line',\n",
       "  'Line',\n",
       "  'Lne'],\n",
       " 'tc-iot-sdk-embedded main.c': ['167']}"
      ]
     },
     "execution_count": 45,
     "metadata": {},
     "output_type": "execute_result"
    }
   ],
   "source": [
    "file_vulnerabilities"
   ]
  }
 ],
 "metadata": {
  "kernelspec": {
   "display_name": "Python 3.10 (tensorflow)",
   "language": "python",
   "name": "tensorflow"
  },
  "language_info": {
   "codemirror_mode": {
    "name": "ipython",
    "version": 3
   },
   "file_extension": ".py",
   "mimetype": "text/x-python",
   "name": "python",
   "nbconvert_exporter": "python",
   "pygments_lexer": "ipython3",
   "version": "3.10.13"
  },
  "orig_nbformat": 4
 },
 "nbformat": 4,
 "nbformat_minor": 2
}
