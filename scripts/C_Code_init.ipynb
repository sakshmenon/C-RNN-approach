{
 "cells": [
  {
   "cell_type": "code",
   "execution_count": 1,
   "metadata": {},
   "outputs": [
    {
     "name": "stderr",
     "output_type": "stream",
     "text": [
      "/tmp/ipykernel_374758/3571106454.py:2: DeprecationWarning: \n",
      "Pyarrow will become a required dependency of pandas in the next major release of pandas (pandas 3.0),\n",
      "(to allow more performant data types, such as the Arrow string type, and better interoperability with other libraries)\n",
      "but was not found to be installed on your system.\n",
      "If this would cause problems for you,\n",
      "please provide us feedback at https://github.com/pandas-dev/pandas/issues/54466\n",
      "        \n",
      "  import pandas as pd\n"
     ]
    }
   ],
   "source": [
    "import os\n",
    "import pandas as pd"
   ]
  },
  {
   "cell_type": "code",
   "execution_count": 3,
   "metadata": {},
   "outputs": [],
   "source": [
    "df = pd.read_excel(\"/home/sakshmeno/Documents/GitHub/C-RNN-approach/Labels/Labelling_Prateek_Guillermo.xlsx\")"
   ]
  },
  {
   "cell_type": "code",
   "execution_count": 38,
   "metadata": {},
   "outputs": [],
   "source": [
    "file_start = {}\n",
    "for i in range(len(df['File'])):\n",
    "    if pd.isnull(df['File'][i]) == False:\n",
    "        file_start[df['File'][i]] = i\n",
    "\n",
    "BOTTOM_LINE = file_start['TOTAL NO. OF FILES']\n",
    "file_list = list(file_start.keys())[:-1]\n",
    "file_vulnerabilities = {}\n",
    "\n",
    "for i in range(len(file_list)-1):\n",
    "    vulnerable_lines=[]\n",
    "    for j in range(file_start[file_list[i]],file_start[file_list[i+1]]-1):\n",
    "        if (df['Comment'][j].split('|')[1].split()[0]) == \"BRANCH:\":\n",
    "            if (pd.isna(df.at[j,'False Positive'])):\n",
    "                vulnerable_lines.append(df['Comment'][j].split('|')[0].split()[1])\n",
    "        if (not(pd.isna(df.at[j,'Lines Missed']))):\n",
    "            if (not(pd.isna(df.at[j,'Branch.1']))):\n",
    "                line = df['Lines Missed'][j].split()\n",
    "                if (not(line[0].isnumeric())):\n",
    "                    vulnerable_lines.append(line[1].strip(\":\"))\n",
    "                else:\n",
    "                    vulnerable_lines.append(line[0].strip(\":\"))\n",
    "    vulnerable_lines.sort()\n",
    "\n",
    "    file_vulnerabilities[file_list[i]]=vulnerable_lines\n",
    "\n",
    "file_list = file_list[:-1]"
   ]
  },
  {
   "cell_type": "code",
   "execution_count": 42,
   "metadata": {},
   "outputs": [],
   "source": [
    "os.chdir(\"/home/sakshmeno/Documents/GitHub/C-RNN-approach/dataset\")\n",
    "\n",
    "insecure_lines = {}\n",
    "secure_lines = {}\n",
    "for file in file_list:\n",
    "    codeLines = []\n",
    "    file_insecure_lines = []\n",
    "    file_secure_lines = []\n",
    "    with open(file) as c_file_obj:\n",
    "        codeLines = (c_file_obj.readlines())\n",
    "    for line_number in range(1,len(codeLines)):\n",
    "        if line_number in file_vulnerabilities[file]:\n",
    "            file_insecure_lines.append(codeLines[int(line_number)-1])\n",
    "        else:\n",
    "            file_secure_lines.append(codeLines[int(line_number)-1])\n",
    "\n",
    "    insecure_lines[file] = file_insecure_lines\n",
    "    secure_lines[file] = file_secure_lines"
   ]
  },
  {
   "cell_type": "code",
   "execution_count": null,
   "metadata": {},
   "outputs": [],
   "source": []
  }
 ],
 "metadata": {
  "kernelspec": {
   "display_name": "Python 3",
   "language": "python",
   "name": "python3"
  },
  "language_info": {
   "codemirror_mode": {
    "name": "ipython",
    "version": 3
   },
   "file_extension": ".py",
   "mimetype": "text/x-python",
   "name": "python",
   "nbconvert_exporter": "python",
   "pygments_lexer": "ipython3",
   "version": "3.10.12"
  },
  "orig_nbformat": 4
 },
 "nbformat": 4,
 "nbformat_minor": 2
}
