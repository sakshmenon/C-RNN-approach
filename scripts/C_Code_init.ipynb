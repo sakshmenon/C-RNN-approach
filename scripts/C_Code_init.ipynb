{
 "cells": [
  {
   "cell_type": "code",
   "execution_count": 76,
   "metadata": {},
   "outputs": [],
   "source": [
    "import os\n",
    "import pandas as pd\n",
    "from pathlib import Path\n",
    "import shutil"
   ]
  },
  {
   "cell_type": "code",
   "execution_count": 77,
   "metadata": {},
   "outputs": [],
   "source": [
    "df = pd.read_excel(\"/home/sakshmeno/Documents/GitHub/C-RNN-approach/Labels/Labelling_Prateek_Guillermo.xlsx\")"
   ]
  },
  {
   "cell_type": "code",
   "execution_count": 78,
   "metadata": {},
   "outputs": [],
   "source": [
    "file_start = {}\n",
    "for i in range(len(df['File'])):\n",
    "    if pd.isnull(df['File'][i]) == False:\n",
    "        file_start[df['File'][i]] = i\n",
    "\n",
    "BOTTOM_LINE = file_start['TOTAL NO. OF FILES']\n",
    "file_list = list(file_start.keys())[:-1]\n",
    "file_vulnerabilities = {}\n",
    "\n",
    "for i in range(len(file_list)-1):\n",
    "    vulnerable_lines=[]\n",
    "    for j in range(file_start[file_list[i]],file_start[file_list[i+1]]-1):\n",
    "        if (df['Comment'][j].split('|')[1].split()[0]) == \"BRANCH:\":\n",
    "            if (pd.isna(df.at[j,'False Positive'])):\n",
    "                vulnerable_lines.append(df['Comment'][j].split('|')[0].split()[1])\n",
    "        if (not(pd.isna(df.at[j,'Lines Missed']))):\n",
    "            if (not(pd.isna(df.at[j,'Branch.1']))):\n",
    "                line = df['Lines Missed'][j].split()\n",
    "                if (not(line[0].isnumeric())):\n",
    "                    vulnerable_lines.append(line[1].strip(\":\"))\n",
    "                else:\n",
    "                    vulnerable_lines.append(line[0].strip(\":\"))\n",
    "    vulnerable_lines.sort()\n",
    "\n",
    "    file_vulnerabilities[file_list[i]]=vulnerable_lines\n",
    "\n",
    "file_list = file_list[:-1]"
   ]
  },
  {
   "cell_type": "code",
   "execution_count": 79,
   "metadata": {},
   "outputs": [],
   "source": [
    "os.chdir(\"/home/sakshmeno/Documents/GitHub/C-RNN-approach/dataset\")\n",
    "\n",
    "insecure_lines = {}\n",
    "secure_lines = {}\n",
    "for file in file_list:\n",
    "    codeLines = []\n",
    "    file_insecure_lines = []\n",
    "    file_secure_lines = []\n",
    "    with open(file) as c_file_obj:\n",
    "        codeLines = (c_file_obj.readlines())\n",
    "    for line_number in range(1,len(codeLines)):\n",
    "        if str(line_number) in file_vulnerabilities[file]:\n",
    "            file_insecure_lines.append(codeLines[int(line_number)-1])\n",
    "        else:\n",
    "            file_secure_lines.append(codeLines[int(line_number)-1])\n",
    "\n",
    "    insecure_lines[file] = file_insecure_lines\n",
    "    secure_lines[file] = file_secure_lines"
   ]
  },
  {
   "cell_type": "code",
   "execution_count": 81,
   "metadata": {},
   "outputs": [],
   "source": [
    "def create_unique_filename(filename):\n",
    "    if not os.path.exists(filename):\n",
    "        return filename\n",
    "\n",
    "    base_name, extension = os.path.splitext(filename)\n",
    "    counter = 1\n",
    "\n",
    "    while True:\n",
    "        alternate_filename = f\"{base_name}_{counter}{extension}\"\n",
    "\n",
    "        if not os.path.exists(alternate_filename):\n",
    "            return alternate_filename\n",
    "\n",
    "        counter += 1"
   ]
  },
  {
   "cell_type": "code",
   "execution_count": 82,
   "metadata": {},
   "outputs": [],
   "source": [
    "secure_file_name = 'SECURE_DATA.txt'\n",
    "unique_secure_file_name = create_unique_filename(secure_file_name)\n",
    "\n",
    "insecure_file_name = 'INSECURE_DATA.txt'\n",
    "unique_insecure_file_name = create_unique_filename(insecure_file_name)\n",
    "\n",
    "for file in file_list:\n",
    "    \n",
    "    with open(unique_secure_file_name,'a') as secure_c_code:\n",
    "        secure_c_code.writelines(secure_lines[file])\n",
    "    \n",
    "    with open(unique_insecure_file_name,'a') as insecure_c_code:\n",
    "        insecure_c_code.writelines(insecure_lines[file])"
   ]
  },
  {
   "cell_type": "code",
   "execution_count": 83,
   "metadata": {},
   "outputs": [
    {
     "data": {
      "text/plain": [
       "'/home/sakshmeno/Documents/GitHub/C-RNN-approach/Vectors/INSECURE_DATA.txt'"
      ]
     },
     "execution_count": 83,
     "metadata": {},
     "output_type": "execute_result"
    }
   ],
   "source": [
    "try:\n",
    "    os.makedirs('/home/sakshmeno/Documents/GitHub/C-RNN-approach/Vectors')\n",
    "except FileExistsError:\n",
    "    pass\n",
    "\n",
    "shutil.move(unique_secure_file_name, \"/home/sakshmeno/Documents/GitHub/C-RNN-approach/Vectors\")\n",
    "shutil.move(unique_insecure_file_name, \"/home/sakshmeno/Documents/GitHub/C-RNN-approach/Vectors\")"
   ]
  }
 ],
 "metadata": {
  "kernelspec": {
   "display_name": "Python 3",
   "language": "python",
   "name": "python3"
  },
  "language_info": {
   "codemirror_mode": {
    "name": "ipython",
    "version": 3
   },
   "file_extension": ".py",
   "mimetype": "text/x-python",
   "name": "python",
   "nbconvert_exporter": "python",
   "pygments_lexer": "ipython3",
   "version": "3.10.12"
  },
  "orig_nbformat": 4
 },
 "nbformat": 4,
 "nbformat_minor": 2
}
