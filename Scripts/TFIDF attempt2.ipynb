{
 "cells": [
  {
   "cell_type": "code",
   "execution_count": 12,
   "metadata": {},
   "outputs": [],
   "source": [
    "import tensorflow as tf"
   ]
  },
  {
   "cell_type": "code",
   "execution_count": 13,
   "metadata": {},
   "outputs": [],
   "source": [
    "text_ds = tf.data.TextLineDataset(\"/Users/saksh.menon/Documents/GitHub/C-RNN-approach/manual_dataset/FILTERED_DATASET.txt\").filter(lambda x: tf.cast(tf.strings.length(x), bool))"
   ]
  },
  {
   "cell_type": "code",
   "execution_count": 14,
   "metadata": {},
   "outputs": [
    {
     "data": {
      "text/plain": [
       "['#include <stdio.h>\\n',\n",
       " '\\n',\n",
       " 'int main(void)\\n',\n",
       " '{\\n',\n",
       " '    int result = 1;\\n',\n",
       " '    if (result == 1)\\n',\n",
       " '    {\\n',\n",
       " '        printf(\"Executing critical code...\\\\n\");\\n',\n",
       " '    }\\n',\n",
       " '    else\\n',\n",
       " '    {\\n',\n",
       " '        printf(\"Exiting out...\\\\n\");\\n',\n",
       " '        return 1;\\n',\n",
       " '    }\\n',\n",
       " '\\n',\n",
       " '    return 0;\\n',\n",
       " '}\\n']"
      ]
     },
     "execution_count": 14,
     "metadata": {},
     "output_type": "execute_result"
    }
   ],
   "source": [
    "codelines = []\n",
    "with open('FILTERED_DATASET.txt') as obj:\n",
    "    codelines = obj.readlines()\n",
    "\n",
    "codelines"
   ]
  },
  {
   "cell_type": "code",
   "execution_count": 15,
   "metadata": {},
   "outputs": [],
   "source": [
    "def code_preprocessing(file):\n",
    "    with open(file) as dataset_obj:\n",
    "        codeLines = dataset_obj.read()\n",
    "    comment_lines = []\n",
    "    raw_codeLines = codeLines.replace(\"\\t\",\"\").split(\"\\n\")\n",
    "    multi_line_flag = 0\n",
    "    for line_number in range(len(raw_codeLines)):\n",
    "        if multi_line_flag:\n",
    "            if raw_codeLines[line_number].__contains__(\"*/\"):\n",
    "                multi_line_flag = 0\n",
    "            comment_lines.append(line_number)\n",
    "        elif raw_codeLines[line_number].__contains__(\"/*\"):\n",
    "            if raw_codeLines[line_number].startswith(\"/*\") and not(raw_codeLines[line_number].__contains__(\"*/\")):\n",
    "                comment_lines.append(line_number)\n",
    "                multi_line_flag = 1\n",
    "            elif raw_codeLines[line_number].__contains__(\"/*\") and not(raw_codeLines[line_number].startswith(\"/*\")):\n",
    "                if raw_codeLines[line_number].__contains__(\"*/\"):\n",
    "                    psuedo_multi_line_start = raw_codeLines[line_number].find(\"/*\")\n",
    "                    psuedo_multi_line_end = raw_codeLines[line_number].find(\"*/\")\n",
    "                    temporary_line = raw_codeLines[line_number][:psuedo_multi_line_start] + raw_codeLines[line_number][psuedo_multi_line_end+2:]\n",
    "                    raw_codeLines[line_number] = temporary_line\n",
    "\n",
    "        elif raw_codeLines[line_number].startswith(\"//\"):\n",
    "            comment_lines.append(line_number)\n",
    "        elif raw_codeLines[line_number].__contains__(\"//\"):\n",
    "            comment_start = raw_codeLines[line_number].find('//')\n",
    "            raw_codeLines[line_number] = raw_codeLines[line_number][:comment_start]\n",
    "    \n",
    "    \n",
    "\n",
    "    comment_lines.reverse()\n",
    "    for i in comment_lines:\n",
    "        raw_codeLines.pop(i)\n",
    "\n",
    "    def insert_space(string, index):\n",
    "        string_copy = \"\"\n",
    "        for i in range(len(string)):\n",
    "            if i==(index):\n",
    "                string_copy += \" \"\n",
    "                string_copy += string[i]\n",
    "                string_copy += \" \"\n",
    "                continue\n",
    "            string_copy += string[i]\n",
    "        return string_copy\n",
    "\n",
    "    def find_char_indices(input_string, char):\n",
    "        indices = []\n",
    "        replacement_token = 0\n",
    "        for index, character in enumerate(input_string):\n",
    "            if character == char:\n",
    "                indices.append(index + 2*replacement_token)\n",
    "                replacement_token+=1\n",
    "        return indices\n",
    "\n",
    "    def space_out(string, char):\n",
    "        indices = find_char_indices(string, char)\n",
    "\n",
    "        for i in indices:\n",
    "            string = insert_space(string, i)\n",
    "        return string\n",
    "\n",
    "    for line_number in range(len(raw_codeLines)):\n",
    "        placeHolder = raw_codeLines[line_number]\n",
    "        placeHolder = space_out(placeHolder, \";\")\n",
    "        placeHolder = space_out(placeHolder, \"(\")\n",
    "        placeHolder = space_out(placeHolder, \")\")\n",
    "        placeHolder = space_out(placeHolder, \",\")\n",
    "        if placeHolder.endswith(\";\"):\n",
    "            raw_codeLines[line_number] = \"<start> \" + placeHolder.replace(\";\",\"<end>\")\n",
    "        elif not(placeHolder.endswith(\";\")):\n",
    "            raw_codeLines[line_number] = \"<start> \" + placeHolder + \" <end>\"\n",
    "\n",
    "    return raw_codeLines\n"
   ]
  },
  {
   "cell_type": "code",
   "execution_count": 16,
   "metadata": {},
   "outputs": [],
   "source": [
    "codelines = code_preprocessing('FILTERED_DATASET.txt')"
   ]
  },
  {
   "cell_type": "code",
   "execution_count": 17,
   "metadata": {},
   "outputs": [],
   "source": [
    "from sklearn.feature_extraction.text import TfidfVectorizer"
   ]
  },
  {
   "cell_type": "code",
   "execution_count": 18,
   "metadata": {},
   "outputs": [
    {
     "data": {
      "text/plain": [
       "<18x17 sparse matrix of type '<class 'numpy.float64'>'\n",
       "\twith 55 stored elements in Compressed Sparse Row format>"
      ]
     },
     "execution_count": 18,
     "metadata": {},
     "output_type": "execute_result"
    }
   ],
   "source": [
    "vectorizer = TfidfVectorizer()\n",
    "output = vectorizer.fit_transform(codelines)\n",
    "output"
   ]
  },
  {
   "cell_type": "code",
   "execution_count": 19,
   "metadata": {},
   "outputs": [
    {
     "name": "stdout",
     "output_type": "stream",
     "text": [
      "start : 14\n",
      "include : 7\n",
      "stdio : 15\n",
      "end : 3\n",
      "int : 8\n",
      "main : 9\n",
      "void : 16\n",
      "result : 12\n",
      "if : 6\n",
      "printf : 11\n",
      "executing : 4\n",
      "critical : 1\n",
      "code : 0\n",
      "else : 2\n",
      "exiting : 5\n",
      "out : 10\n",
      "return : 13\n"
     ]
    }
   ],
   "source": [
    "inverse_vocab = {index: token for token, index in vectorizer.vocabulary_.items()}\n",
    "for i in (inverse_vocab):\n",
    "    print(inverse_vocab.get(i),':', i)"
   ]
  },
  {
   "cell_type": "code",
   "execution_count": 20,
   "metadata": {},
   "outputs": [
    {
     "name": "stdout",
     "output_type": "stream",
     "text": [
      "<start> #include <stdio.h> <end>\n",
      "\n",
      "[[0.         0.         0.         0.20787462 0.         0.\n",
      "  0.         0.67586104 0.         0.         0.         0.\n",
      "  0.         0.         0.20787462 0.67586104 0.        ]]\n",
      "\n",
      "<start>  <end>\n",
      "\n",
      "[[0.         0.         0.         0.70710678 0.         0.\n",
      "  0.         0.         0.         0.         0.         0.\n",
      "  0.         0.         0.70710678 0.         0.        ]]\n",
      "\n",
      "<start> int main ( void )  <end>\n",
      "\n",
      "[[0.         0.         0.         0.17891256 0.         0.\n",
      "  0.         0.         0.50915414 0.58169694 0.         0.\n",
      "  0.         0.         0.17891256 0.         0.58169694]]\n",
      "\n",
      "<start> { <end>\n",
      "\n",
      "[[0.         0.         0.         0.70710678 0.         0.\n",
      "  0.         0.         0.         0.         0.         0.\n",
      "  0.         0.         0.70710678 0.         0.        ]]\n",
      "\n",
      "<start>     int result = 1 ;  <end>\n",
      "\n",
      "[[0.         0.         0.         0.23441998 0.         0.\n",
      "  0.         0.         0.66711863 0.         0.         0.\n",
      "  0.66711863 0.         0.23441998 0.         0.        ]]\n",
      "\n",
      "<start>     if  ( result == 1 )  <end>\n",
      "\n",
      "[[0.         0.         0.         0.21995491 0.         0.\n",
      "  0.71513761 0.         0.         0.         0.         0.\n",
      "  0.62595357 0.         0.21995491 0.         0.        ]]\n",
      "\n",
      "<start>     { <end>\n",
      "\n",
      "[[0.         0.         0.         0.70710678 0.         0.\n",
      "  0.         0.         0.         0.         0.         0.\n",
      "  0.         0.         0.70710678 0.         0.        ]]\n",
      "\n",
      "<start>         printf ( \"Executing critical code...\\n\" )  ;  <end>\n",
      "\n",
      "[[0.50281528 0.50281528 0.         0.15465092 0.50281528 0.\n",
      "  0.         0.         0.         0.         0.         0.44010973\n",
      "  0.         0.         0.15465092 0.         0.        ]]\n",
      "\n",
      "<start>     } <end>\n",
      "\n",
      "[[0.         0.         0.         0.70710678 0.         0.\n",
      "  0.         0.         0.         0.         0.         0.\n",
      "  0.         0.         0.70710678 0.         0.        ]]\n",
      "\n",
      "<start>     else <end>\n",
      "\n",
      "[[0.         0.         0.9170073  0.28204399 0.         0.\n",
      "  0.         0.         0.         0.         0.         0.\n",
      "  0.         0.         0.28204399 0.         0.        ]]\n",
      "\n",
      "<start>     { <end>\n",
      "\n",
      "[[0.         0.         0.         0.70710678 0.         0.\n",
      "  0.         0.         0.         0.         0.         0.\n",
      "  0.         0.         0.70710678 0.         0.        ]]\n",
      "\n",
      "<start>         printf ( \"Exiting out...\\n\" )  ;  <end>\n",
      "\n",
      "[[0.         0.         0.         0.17891256 0.         0.58169694\n",
      "  0.         0.         0.         0.         0.58169694 0.50915414\n",
      "  0.         0.         0.17891256 0.         0.        ]]\n",
      "\n",
      "<start>         return 1 ;  <end>\n",
      "\n",
      "[[0.         0.         0.         0.31467818 0.         0.\n",
      "  0.         0.         0.         0.         0.         0.\n",
      "  0.         0.89551956 0.31467818 0.         0.        ]]\n",
      "\n",
      "<start>     } <end>\n",
      "\n",
      "[[0.         0.         0.         0.70710678 0.         0.\n",
      "  0.         0.         0.         0.         0.         0.\n",
      "  0.         0.         0.70710678 0.         0.        ]]\n",
      "\n",
      "<start>  <end>\n",
      "\n",
      "[[0.         0.         0.         0.70710678 0.         0.\n",
      "  0.         0.         0.         0.         0.         0.\n",
      "  0.         0.         0.70710678 0.         0.        ]]\n",
      "\n",
      "<start>     return 0 ;  <end>\n",
      "\n",
      "[[0.         0.         0.         0.31467818 0.         0.\n",
      "  0.         0.         0.         0.         0.         0.\n",
      "  0.         0.89551956 0.31467818 0.         0.        ]]\n",
      "\n",
      "<start> } <end>\n",
      "\n",
      "[[0.         0.         0.         0.70710678 0.         0.\n",
      "  0.         0.         0.         0.         0.         0.\n",
      "  0.         0.         0.70710678 0.         0.        ]]\n",
      "\n",
      "<start>  <end>\n",
      "\n",
      "[[0.         0.         0.         0.70710678 0.         0.\n",
      "  0.         0.         0.         0.         0.         0.\n",
      "  0.         0.         0.70710678 0.         0.        ]]\n",
      "\n"
     ]
    }
   ],
   "source": [
    "for i in enumerate(output):\n",
    "    print(codelines[i[0]])\n",
    "    print()\n",
    "    print(i[1].A[:1])\n",
    "    print()\n",
    "    \n",
    "    "
   ]
  }
 ],
 "metadata": {
  "kernelspec": {
   "display_name": "Python 3",
   "language": "python",
   "name": "python3"
  },
  "language_info": {
   "codemirror_mode": {
    "name": "ipython",
    "version": 3
   },
   "file_extension": ".py",
   "mimetype": "text/x-python",
   "name": "python",
   "nbconvert_exporter": "python",
   "pygments_lexer": "ipython3",
   "version": "3.10.12"
  },
  "orig_nbformat": 4
 },
 "nbformat": 4,
 "nbformat_minor": 2
}
