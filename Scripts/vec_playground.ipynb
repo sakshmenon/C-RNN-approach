{
 "cells": [
  {
   "cell_type": "code",
   "execution_count": 1,
   "metadata": {},
   "outputs": [
    {
     "name": "stdout",
     "output_type": "stream",
     "text": [
      "WARNING:tensorflow:From /var/folders/tl/9c2d6y_57n90z4swq88_fh7r0000gn/T/ipykernel_35897/1828852225.py:5: is_gpu_available (from tensorflow.python.framework.test_util) is deprecated and will be removed in a future version.\n",
      "Instructions for updating:\n",
      "Use `tf.config.list_physical_devices('GPU')` instead.\n"
     ]
    },
    {
     "name": "stderr",
     "output_type": "stream",
     "text": [
      "2024-03-08 17:40:27.224083: I metal_plugin/src/device/metal_device.cc:1154] Metal device set to: Apple M1\n",
      "2024-03-08 17:40:27.224108: I metal_plugin/src/device/metal_device.cc:296] systemMemory: 16.00 GB\n",
      "2024-03-08 17:40:27.224113: I metal_plugin/src/device/metal_device.cc:313] maxCacheSize: 5.33 GB\n",
      "2024-03-08 17:40:27.224151: I tensorflow/core/common_runtime/pluggable_device/pluggable_device_factory.cc:303] Could not identify NUMA node of platform GPU ID 0, defaulting to 0. Your kernel may not have been built with NUMA support.\n",
      "2024-03-08 17:40:27.224170: I tensorflow/core/common_runtime/pluggable_device/pluggable_device_factory.cc:269] Created TensorFlow device (/device:GPU:0 with 0 MB memory) -> physical PluggableDevice (device: 0, name: METAL, pci bus id: <undefined>)\n"
     ]
    }
   ],
   "source": [
    "import platform\n",
    "import os\n",
    "import numpy as np\n",
    "import tensorflow as tf\n",
    "gpu_token = tf.test.is_gpu_available('GPU')\n",
    "\n",
    "if platform.machine() == 'x86_64':\n",
    "    if gpu_token:\n",
    "        os.chdir('/home/ucdasec/Faulthunter-RNN-approach')\n",
    "    else:\n",
    "        os.chdir(\"/home/sakshmeno/Documents/GitHub/C-RNN-approach\")\n",
    "elif platform.machine() == 'arm64':\n",
    "    os.chdir(\"/Users/saksh.menon/Documents/GitHub/C-RNN-approach\")\n",
    "\n",
    "from Utils.dataframe_gen import *\n",
    "from Utils.OneHot_gen import *\n",
    "from Utils.TFIDF_gen import *\n",
    "from Utils.word2vec_gen import *\n",
    "from Utils.vector_gen import *\n",
    "\n"
   ]
  },
  {
   "cell_type": "code",
   "execution_count": 2,
   "metadata": {},
   "outputs": [],
   "source": [
    "original_df = dataframe_init(gpu_token)\n",
    "word2vec\n",
    "vectors = vec_split(original_df)"
   ]
  },
  {
   "cell_type": "code",
   "execution_count": 3,
   "metadata": {},
   "outputs": [
    {
     "name": "stderr",
     "output_type": "stream",
     "text": [
      "2024-03-08 17:40:30.514567: I tensorflow/core/common_runtime/pluggable_device/pluggable_device_factory.cc:303] Could not identify NUMA node of platform GPU ID 0, defaulting to 0. Your kernel may not have been built with NUMA support.\n",
      "2024-03-08 17:40:30.514590: I tensorflow/core/common_runtime/pluggable_device/pluggable_device_factory.cc:269] Created TensorFlow device (/job:localhost/replica:0/task:0/device:GPU:0 with 0 MB memory) -> physical PluggableDevice (device: 0, name: METAL, pci bus id: <undefined>)\n",
      "2024-03-08 17:40:30.653307: I tensorflow/core/grappler/optimizers/custom_graph_optimizer_registry.cc:114] Plugin optimizer for device_type GPU is enabled.\n",
      "2024-03-08 17:40:31.923960: I tensorflow/core/grappler/optimizers/custom_graph_optimizer_registry.cc:114] Plugin optimizer for device_type GPU is enabled.\n"
     ]
    },
    {
     "data": {
      "text/html": [
       "<div>\n",
       "<style scoped>\n",
       "    .dataframe tbody tr th:only-of-type {\n",
       "        vertical-align: middle;\n",
       "    }\n",
       "\n",
       "    .dataframe tbody tr th {\n",
       "        vertical-align: top;\n",
       "    }\n",
       "\n",
       "    .dataframe thead th {\n",
       "        text-align: right;\n",
       "    }\n",
       "</style>\n",
       "<table border=\"1\" class=\"dataframe\">\n",
       "  <thead>\n",
       "    <tr style=\"text-align: right;\">\n",
       "      <th></th>\n",
       "      <th>Lines</th>\n",
       "      <th>Label</th>\n",
       "      <th>Encoded Lines</th>\n",
       "    </tr>\n",
       "  </thead>\n",
       "  <tbody>\n",
       "    <tr>\n",
       "      <th>0</th>\n",
       "      <td>&lt;start&gt;     { &lt;end&gt;</td>\n",
       "      <td>[1, 0]</td>\n",
       "      <td>[2.0, 3.0, 0.0, 0.0, 0.0, 0.0, 0.0, 0.0, 0.0, ...</td>\n",
       "    </tr>\n",
       "    <tr>\n",
       "      <th>1</th>\n",
       "      <td>&lt;start&gt;  &lt;end&gt;</td>\n",
       "      <td>[1, 0]</td>\n",
       "      <td>[2.0, 3.0, 0.0, 0.0, 0.0, 0.0, 0.0, 0.0, 0.0, ...</td>\n",
       "    </tr>\n",
       "    <tr>\n",
       "      <th>2</th>\n",
       "      <td>&lt;start&gt;  &lt;end&gt;</td>\n",
       "      <td>[1, 0]</td>\n",
       "      <td>[2.0, 3.0, 0.0, 0.0, 0.0, 0.0, 0.0, 0.0, 0.0, ...</td>\n",
       "    </tr>\n",
       "    <tr>\n",
       "      <th>3</th>\n",
       "      <td>&lt;start&gt;      &lt;end&gt;</td>\n",
       "      <td>[1, 0]</td>\n",
       "      <td>[2.0, 3.0, 0.0, 0.0, 0.0, 0.0, 0.0, 0.0, 0.0, ...</td>\n",
       "    </tr>\n",
       "    <tr>\n",
       "      <th>4</th>\n",
       "      <td>&lt;start&gt;  &lt;end&gt;</td>\n",
       "      <td>[1, 0]</td>\n",
       "      <td>[2.0, 3.0, 0.0, 0.0, 0.0, 0.0, 0.0, 0.0, 0.0, ...</td>\n",
       "    </tr>\n",
       "    <tr>\n",
       "      <th>...</th>\n",
       "      <td>...</td>\n",
       "      <td>...</td>\n",
       "      <td>...</td>\n",
       "    </tr>\n",
       "    <tr>\n",
       "      <th>1037</th>\n",
       "      <td>&lt;start&gt;    &lt;end&gt;</td>\n",
       "      <td>[1, 0]</td>\n",
       "      <td>[2.0, 3.0, 0.0, 0.0, 0.0, 0.0, 0.0, 0.0, 0.0, ...</td>\n",
       "    </tr>\n",
       "    <tr>\n",
       "      <th>1038</th>\n",
       "      <td>&lt;start&gt; f = fopen ( filename ,  \"r\" )  ;  &lt;end&gt;</td>\n",
       "      <td>[1, 0]</td>\n",
       "      <td>[2.0, 53.0, 688.0, 244.0, 32.0, 3.0, 0.0, 0.0,...</td>\n",
       "    </tr>\n",
       "    <tr>\n",
       "      <th>1039</th>\n",
       "      <td>&lt;start&gt;         extern const char *iotx_ca_crt...</td>\n",
       "      <td>[1, 0]</td>\n",
       "      <td>[2.0, 81.0, 27.0, 13.0, 238.0, 3.0, 0.0, 0.0, ...</td>\n",
       "    </tr>\n",
       "    <tr>\n",
       "      <th>1040</th>\n",
       "      <td>&lt;start&gt;     unsigned int i ;  &lt;end&gt;</td>\n",
       "      <td>[1, 0]</td>\n",
       "      <td>[2.0, 19.0, 15.0, 8.0, 3.0, 0.0, 0.0, 0.0, 0.0...</td>\n",
       "    </tr>\n",
       "    <tr>\n",
       "      <th>1041</th>\n",
       "      <td>&lt;start&gt; return r ;  &lt;end&gt;</td>\n",
       "      <td>[1, 0]</td>\n",
       "      <td>[2.0, 12.0, 32.0, 3.0, 0.0, 0.0, 0.0, 0.0, 0.0...</td>\n",
       "    </tr>\n",
       "  </tbody>\n",
       "</table>\n",
       "<p>1042 rows × 3 columns</p>\n",
       "</div>"
      ],
      "text/plain": [
       "                                                  Lines   Label  \\\n",
       "0                                   <start>     { <end>  [1, 0]   \n",
       "1                                        <start>  <end>  [1, 0]   \n",
       "2                                        <start>  <end>  [1, 0]   \n",
       "3                                    <start>      <end>  [1, 0]   \n",
       "4                                        <start>  <end>  [1, 0]   \n",
       "...                                                 ...     ...   \n",
       "1037                                   <start>    <end>  [1, 0]   \n",
       "1038    <start> f = fopen ( filename ,  \"r\" )  ;  <end>  [1, 0]   \n",
       "1039  <start>         extern const char *iotx_ca_crt...  [1, 0]   \n",
       "1040                <start>     unsigned int i ;  <end>  [1, 0]   \n",
       "1041                          <start> return r ;  <end>  [1, 0]   \n",
       "\n",
       "                                          Encoded Lines  \n",
       "0     [2.0, 3.0, 0.0, 0.0, 0.0, 0.0, 0.0, 0.0, 0.0, ...  \n",
       "1     [2.0, 3.0, 0.0, 0.0, 0.0, 0.0, 0.0, 0.0, 0.0, ...  \n",
       "2     [2.0, 3.0, 0.0, 0.0, 0.0, 0.0, 0.0, 0.0, 0.0, ...  \n",
       "3     [2.0, 3.0, 0.0, 0.0, 0.0, 0.0, 0.0, 0.0, 0.0, ...  \n",
       "4     [2.0, 3.0, 0.0, 0.0, 0.0, 0.0, 0.0, 0.0, 0.0, ...  \n",
       "...                                                 ...  \n",
       "1037  [2.0, 3.0, 0.0, 0.0, 0.0, 0.0, 0.0, 0.0, 0.0, ...  \n",
       "1038  [2.0, 53.0, 688.0, 244.0, 32.0, 3.0, 0.0, 0.0,...  \n",
       "1039  [2.0, 81.0, 27.0, 13.0, 238.0, 3.0, 0.0, 0.0, ...  \n",
       "1040  [2.0, 19.0, 15.0, 8.0, 3.0, 0.0, 0.0, 0.0, 0.0...  \n",
       "1041  [2.0, 12.0, 32.0, 3.0, 0.0, 0.0, 0.0, 0.0, 0.0...  \n",
       "\n",
       "[1042 rows x 3 columns]"
      ]
     },
     "execution_count": 3,
     "metadata": {},
     "output_type": "execute_result"
    }
   ],
   "source": [
    "word2vec_init(vectors[0],gpu_token)\n",
    "word2vec_init(vectors[1],gpu_token)"
   ]
  },
  {
   "cell_type": "code",
   "execution_count": 4,
   "metadata": {},
   "outputs": [],
   "source": [
    "tensors = tensor_gen(vectors)"
   ]
  },
  {
   "cell_type": "code",
   "execution_count": 1,
   "metadata": {},
   "outputs": [
    {
     "ename": "NameError",
     "evalue": "name 'vectors' is not defined",
     "output_type": "error",
     "traceback": [
      "\u001b[0;31m---------------------------------------------------------------------------\u001b[0m",
      "\u001b[0;31mNameError\u001b[0m                                 Traceback (most recent call last)",
      "Cell \u001b[0;32mIn[1], line 1\u001b[0m\n\u001b[0;32m----> 1\u001b[0m vectors[\u001b[39m1\u001b[39m]\n",
      "\u001b[0;31mNameError\u001b[0m: name 'vectors' is not defined"
     ]
    }
   ],
   "source": [
    "vectors[1]"
   ]
  },
  {
   "cell_type": "code",
   "execution_count": 30,
   "metadata": {},
   "outputs": [
    {
     "data": {
      "text/plain": [
       "<tf.Tensor: shape=(218,), dtype=float32, numpy=\n",
       "array([  2., 133., 571.,   7.,   9.,   3.,   0.,   0.,   0.,   0.,   0.,\n",
       "         0.,   0.,   0.,   0.,   0.,   0.,   0.,   0.,   0.,   0.,   0.,\n",
       "         0.,   0.,   0.,   0.,   0.,   0.,   0.,   0.,   0.,   0.,   0.,\n",
       "         0.,   0.,   0.,   0.,   0.,   0.,   0.,   0.,   0.,   0.,   0.,\n",
       "         0.,   0.,   0.,   0.,   0.,   0.,   0.,   0.,   0.,   0.,   0.,\n",
       "         0.,   0.,   0.,   0.,   0.,   0.,   0.,   0.,   0.,   0.,   0.,\n",
       "         0.,   0.,   0.,   0.,   0.,   0.,   0.,   0.,   0.,   0.,   0.,\n",
       "         0.,   0.,   0.,   0.,   0.,   0.,   0.,   0.,   0.,   0.,   0.,\n",
       "         0.,   0.,   0.,   0.,   0.,   0.,   0.,   0.,   0.,   0.,   0.,\n",
       "         0.,   0.,   0.,   0.,   0.,   0.,   0.,   0.,   0.,   0.,   0.,\n",
       "         0.,   0.,   0.,   0.,   0.,   0.,   0.,   0.,   0.,   0.,   0.,\n",
       "         0.,   0.,   0.,   0.,   0.,   0.,   0.,   0.,   0.,   0.,   0.,\n",
       "         0.,   0.,   0.,   0.,   0.,   0.,   0.,   0.,   0.,   0.,   0.,\n",
       "         0.,   0.,   0.,   0.,   0.,   0.,   0.,   0.,   0.,   0.,   0.,\n",
       "         0.,   0.,   0.,   0.,   0.,   0.,   0.,   0.,   0.,   0.,   0.,\n",
       "         0.,   0.,   0.,   0.,   0.,   0.,   0.,   0.,   0.,   0.,   0.,\n",
       "         0.,   0.,   0.,   0.,   0.,   0.,   0.,   0.,   0.,   0.,   0.,\n",
       "         0.,   0.,   0.,   0.,   0.,   0.,   0.,   0.,   0.,   0.,   0.,\n",
       "         0.,   0.,   0.,   0.,   0.,   0.,   0.,   0.,   0.,   0.,   0.,\n",
       "         0.,   0.,   0.,   0.,   0.,   0.,   0.,   0.,   0.],\n",
       "      dtype=float32)>"
      ]
     },
     "execution_count": 30,
     "metadata": {},
     "output_type": "execute_result"
    }
   ],
   "source": [
    "x_train = vectors[0]['Encoded Lines']\n",
    "tensor_x_train_proto = [i for i in (x_train)]\n",
    "tensor_x_train_proto = tf.constant(tensor_x_train_proto, dtype=tf.float32)\n",
    "tensor_x_train_proto[0]\n"
   ]
  },
  {
   "cell_type": "code",
   "execution_count": 31,
   "metadata": {},
   "outputs": [],
   "source": [
    "vectors[0].loc[0]['Tensors'] : tensor_x_train_proto[0].numpy()"
   ]
  },
  {
   "cell_type": "code",
   "execution_count": 12,
   "metadata": {},
   "outputs": [
    {
     "data": {
      "text/html": [
       "<div>\n",
       "<style scoped>\n",
       "    .dataframe tbody tr th:only-of-type {\n",
       "        vertical-align: middle;\n",
       "    }\n",
       "\n",
       "    .dataframe tbody tr th {\n",
       "        vertical-align: top;\n",
       "    }\n",
       "\n",
       "    .dataframe thead th {\n",
       "        text-align: right;\n",
       "    }\n",
       "</style>\n",
       "<table border=\"1\" class=\"dataframe\">\n",
       "  <thead>\n",
       "    <tr style=\"text-align: right;\">\n",
       "      <th></th>\n",
       "      <th>Lines</th>\n",
       "      <th>Label</th>\n",
       "      <th>Encoded Lines</th>\n",
       "    </tr>\n",
       "  </thead>\n",
       "  <tbody>\n",
       "    <tr>\n",
       "      <th>0</th>\n",
       "      <td>&lt;start&gt;                 u8 codeFlag = 1 ,  i ;...</td>\n",
       "      <td>[1, 0]</td>\n",
       "      <td>[2.0, 133.0, 571.0, 7.0, 9.0, 3.0, 0.0, 0.0, 0...</td>\n",
       "    </tr>\n",
       "    <tr>\n",
       "      <th>1</th>\n",
       "      <td>&lt;start&gt;  &lt;end&gt;</td>\n",
       "      <td>[1, 0]</td>\n",
       "      <td>[2.0, 3.0, 0.0, 0.0, 0.0, 0.0, 0.0, 0.0, 0.0, ...</td>\n",
       "    </tr>\n",
       "    <tr>\n",
       "      <th>2</th>\n",
       "      <td>&lt;start&gt;  &lt;end&gt;</td>\n",
       "      <td>[1, 0]</td>\n",
       "      <td>[2.0, 3.0, 0.0, 0.0, 0.0, 0.0, 0.0, 0.0, 0.0, ...</td>\n",
       "    </tr>\n",
       "    <tr>\n",
       "      <th>3</th>\n",
       "      <td>&lt;start&gt;  &lt;end&gt;</td>\n",
       "      <td>[1, 0]</td>\n",
       "      <td>[2.0, 3.0, 0.0, 0.0, 0.0, 0.0, 0.0, 0.0, 0.0, ...</td>\n",
       "    </tr>\n",
       "    <tr>\n",
       "      <th>4</th>\n",
       "      <td>&lt;start&gt;     int x ,  y ,  offsetx = 0 ;  &lt;end&gt;</td>\n",
       "      <td>[1, 0]</td>\n",
       "      <td>[2.0, 16.0, 60.0, 66.0, 78.0, 4.0, 3.0, 0.0, 0...</td>\n",
       "    </tr>\n",
       "    <tr>\n",
       "      <th>...</th>\n",
       "      <td>...</td>\n",
       "      <td>...</td>\n",
       "      <td>...</td>\n",
       "    </tr>\n",
       "    <tr>\n",
       "      <th>4158</th>\n",
       "      <td>&lt;start&gt; buzzerDetection (  )  ;  &lt;end&gt;</td>\n",
       "      <td>[1, 0]</td>\n",
       "      <td>[2.0, 255.0, 3.0, 0.0, 0.0, 0.0, 0.0, 0.0, 0.0...</td>\n",
       "    </tr>\n",
       "    <tr>\n",
       "      <th>4159</th>\n",
       "      <td>&lt;start&gt;     uint16_t funds = CSH_GetUserFunds ...</td>\n",
       "      <td>[1, 0]</td>\n",
       "      <td>[2.0, 39.0, 392.0, 1762.0, 3.0, 0.0, 0.0, 0.0,...</td>\n",
       "    </tr>\n",
       "    <tr>\n",
       "      <th>4160</th>\n",
       "      <td>&lt;start&gt; fscanf ( f ,  \"%d\" ,  &amp;n )  ;  &lt;end&gt;</td>\n",
       "      <td>[1, 0]</td>\n",
       "      <td>[2.0, 305.0, 50.0, 59.0, 40.0, 3.0, 0.0, 0.0, ...</td>\n",
       "    </tr>\n",
       "    <tr>\n",
       "      <th>4161</th>\n",
       "      <td>&lt;start&gt; for  ( i = 0 ;  i &lt; MAX_ADDRESS ;  i +...</td>\n",
       "      <td>[1, 0]</td>\n",
       "      <td>[2.0, 21.0, 9.0, 4.0, 9.0, 153.0, 9.0, 75.0, 3...</td>\n",
       "    </tr>\n",
       "    <tr>\n",
       "      <th>4162</th>\n",
       "      <td>&lt;start&gt;         case VMC_VEND_SUCCESS : VendSu...</td>\n",
       "      <td>[1, 0]</td>\n",
       "      <td>[2.0, 18.0, 1037.0, 630.0, 12.0, 3.0, 0.0, 0.0...</td>\n",
       "    </tr>\n",
       "  </tbody>\n",
       "</table>\n",
       "<p>4163 rows × 3 columns</p>\n",
       "</div>"
      ],
      "text/plain": [
       "                                                  Lines   Label  \\\n",
       "0     <start>                 u8 codeFlag = 1 ,  i ;...  [1, 0]   \n",
       "1                                        <start>  <end>  [1, 0]   \n",
       "2                                        <start>  <end>  [1, 0]   \n",
       "3                                        <start>  <end>  [1, 0]   \n",
       "4        <start>     int x ,  y ,  offsetx = 0 ;  <end>  [1, 0]   \n",
       "...                                                 ...     ...   \n",
       "4158             <start> buzzerDetection (  )  ;  <end>  [1, 0]   \n",
       "4159  <start>     uint16_t funds = CSH_GetUserFunds ...  [1, 0]   \n",
       "4160       <start> fscanf ( f ,  \"%d\" ,  &n )  ;  <end>  [1, 0]   \n",
       "4161  <start> for  ( i = 0 ;  i < MAX_ADDRESS ;  i +...  [1, 0]   \n",
       "4162  <start>         case VMC_VEND_SUCCESS : VendSu...  [1, 0]   \n",
       "\n",
       "                                          Encoded Lines  \n",
       "0     [2.0, 133.0, 571.0, 7.0, 9.0, 3.0, 0.0, 0.0, 0...  \n",
       "1     [2.0, 3.0, 0.0, 0.0, 0.0, 0.0, 0.0, 0.0, 0.0, ...  \n",
       "2     [2.0, 3.0, 0.0, 0.0, 0.0, 0.0, 0.0, 0.0, 0.0, ...  \n",
       "3     [2.0, 3.0, 0.0, 0.0, 0.0, 0.0, 0.0, 0.0, 0.0, ...  \n",
       "4     [2.0, 16.0, 60.0, 66.0, 78.0, 4.0, 3.0, 0.0, 0...  \n",
       "...                                                 ...  \n",
       "4158  [2.0, 255.0, 3.0, 0.0, 0.0, 0.0, 0.0, 0.0, 0.0...  \n",
       "4159  [2.0, 39.0, 392.0, 1762.0, 3.0, 0.0, 0.0, 0.0,...  \n",
       "4160  [2.0, 305.0, 50.0, 59.0, 40.0, 3.0, 0.0, 0.0, ...  \n",
       "4161  [2.0, 21.0, 9.0, 4.0, 9.0, 153.0, 9.0, 75.0, 3...  \n",
       "4162  [2.0, 18.0, 1037.0, 630.0, 12.0, 3.0, 0.0, 0.0...  \n",
       "\n",
       "[4163 rows x 3 columns]"
      ]
     },
     "execution_count": 12,
     "metadata": {},
     "output_type": "execute_result"
    }
   ],
   "source": [
    "vectors[0]"
   ]
  },
  {
   "cell_type": "code",
   "execution_count": 3,
   "metadata": {},
   "outputs": [
    {
     "name": "stderr",
     "output_type": "stream",
     "text": [
      "2024-03-07 12:40:58.355297: I external/local_xla/xla/stream_executor/cuda/cuda_executor.cc:901] successful NUMA node read from SysFS had negative value (-1), but there must be at least one NUMA node, so returning NUMA node zero. See more at https://github.com/torvalds/linux/blob/v6.0/Documentation/ABI/testing/sysfs-bus-pci#L344-L355\n",
      "2024-03-07 12:40:58.355518: I external/local_xla/xla/stream_executor/cuda/cuda_executor.cc:901] successful NUMA node read from SysFS had negative value (-1), but there must be at least one NUMA node, so returning NUMA node zero. See more at https://github.com/torvalds/linux/blob/v6.0/Documentation/ABI/testing/sysfs-bus-pci#L344-L355\n",
      "2024-03-07 12:40:58.355652: I external/local_xla/xla/stream_executor/cuda/cuda_executor.cc:901] successful NUMA node read from SysFS had negative value (-1), but there must be at least one NUMA node, so returning NUMA node zero. See more at https://github.com/torvalds/linux/blob/v6.0/Documentation/ABI/testing/sysfs-bus-pci#L344-L355\n",
      "2024-03-07 12:40:58.355817: I external/local_xla/xla/stream_executor/cuda/cuda_executor.cc:901] successful NUMA node read from SysFS had negative value (-1), but there must be at least one NUMA node, so returning NUMA node zero. See more at https://github.com/torvalds/linux/blob/v6.0/Documentation/ABI/testing/sysfs-bus-pci#L344-L355\n",
      "2024-03-07 12:40:58.355952: I external/local_xla/xla/stream_executor/cuda/cuda_executor.cc:901] successful NUMA node read from SysFS had negative value (-1), but there must be at least one NUMA node, so returning NUMA node zero. See more at https://github.com/torvalds/linux/blob/v6.0/Documentation/ABI/testing/sysfs-bus-pci#L344-L355\n",
      "2024-03-07 12:40:58.356052: I tensorflow/core/common_runtime/gpu/gpu_device.cc:1929] Created device /device:GPU:0 with 7373 MB memory:  -> device: 0, name: NVIDIA GeForce GTX 1070, pci bus id: 0000:02:00.0, compute capability: 6.1\n"
     ]
    },
    {
     "data": {
      "text/plain": [
       "False"
      ]
     },
     "execution_count": 3,
     "metadata": {},
     "output_type": "execute_result"
    }
   ],
   "source": [
    "import tensorflow as tf\n",
    "tf.test.is_gpu_available('GPU') == 0"
   ]
  }
 ],
 "metadata": {
  "kernelspec": {
   "display_name": "Python 3 (ipykernel)",
   "language": "python",
   "name": "python3"
  }
 },
 "nbformat": 4,
 "nbformat_minor": 2
}
