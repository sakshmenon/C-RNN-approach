{
 "cells": [
  {
   "cell_type": "code",
   "execution_count": 22,
   "metadata": {},
   "outputs": [
    {
     "name": "stdout",
     "output_type": "stream",
     "text": [
      "\n",
      "int main(void)\n",
      "{\n",
      "    int result = 1;\n",
      "    if (result == 1)\n",
      "    {\n",
      "        printf(\"Executing critical code...\\n\");\n",
      "    }\n",
      "    else\n",
      "    {\n",
      "        printf(\"Exiting out...\\n\");\n",
      "        return 1;\n",
      "    }\n",
      "\n",
      "    return 0;\n",
      "}\n"
     ]
    }
   ],
   "source": [
    "import sys\n",
    "\n",
    "sys.path.extend(['.', '..'])\n",
    "\n",
    "import platform\n",
    "import os\n",
    "import numpy as np\n",
    "import tensorflow as tf\n",
    "import keras\n",
    "from keras import layers\n",
    "\n",
    "gpu_token = tf.test.is_gpu_available('GPU')\n",
    "\n",
    "if platform.machine() == 'x86_64':\n",
    "    if gpu_token:\n",
    "        os.chdir('/home/ucdasec/Faulthunter-RNN-approach/manual_dataset')\n",
    "    else:\n",
    "        os.chdir(\"/home/sakshmeno/Documents/GitHub/C-RNN-approach/manual_dataset\")\n",
    "elif platform.machine() == 'arm64':\n",
    "    os.chdir(\"/Users/saksh.menon/Documents/GitHub/C-RNN-approach/manual_dataset\")\n",
    "\n",
    "from pycparser import c_parser, c_generator\n",
    "\n",
    "text=[]\n",
    "with open('guillermo_branch_simple_insecure.c') as obj:\n",
    "    temp = obj.read()\n",
    "    obj.seek(0)\n",
    "    while obj.tell()!=len(temp):\n",
    "        try:\n",
    "            line = obj.readline()\n",
    "            if line.__contains__(\"#include\"):\n",
    "                pass\n",
    "            else:\n",
    "                text.append(line)\n",
    "        except EOFError:\n",
    "            break\n",
    "\n",
    "text = \"\".join(text)\n",
    "print(text)\n"
   ]
  },
  {
   "cell_type": "code",
   "execution_count": 23,
   "metadata": {},
   "outputs": [],
   "source": [
    "parser = c_parser.CParser()\n",
    "ast = parser.parse(text, filename='simple_password_check.c')\n",
    "# ast = (ast.children()[0][1].children()[1][1].children()[1][1].children()[0][1].children()[0][1])#.children())"
   ]
  },
  {
   "cell_type": "code",
   "execution_count": 24,
   "metadata": {},
   "outputs": [
    {
     "name": "stdout",
     "output_type": "stream",
     "text": [
      "int main(void)\n",
      "{\n",
      "  int result = 1;\n",
      "  if (result == 1)\n",
      "  {\n",
      "    printf(\"Executing critical code...\\n\");\n",
      "  }\n",
      "  else\n",
      "  {\n",
      "    printf(\"Exiting out...\\n\");\n",
      "    return 1;\n",
      "  }\n",
      "  return 0;\n",
      "}\n",
      "\n",
      "\n",
      "int main(void)\n",
      "{\n",
      "  int result = 1;\n",
      "  if (result == 1)\n",
      "  {\n",
      "    printf(\"Executing critical code...\\n\");\n",
      "  }\n",
      "  else\n",
      "  {\n",
      "    printf(\"Exiting out...\\n\");\n",
      "    return 1;\n",
      "  }\n",
      "  return 0;\n",
      "}\n",
      "\n",
      "\n",
      "int main(void)\n",
      "{\n",
      "  int result = 1;\n",
      "  if (result == 1)\n",
      "  {\n",
      "    printf(\"Executing critical code...\\n\");\n",
      "  }\n",
      "  else\n",
      "  {\n",
      "    printf(\"Exiting out...\\n\");\n",
      "    return 1;\n",
      "  }\n",
      "  return 0;\n",
      "}\n",
      "\n",
      "\n"
     ]
    },
    {
     "ename": "IndexError",
     "evalue": "tuple index out of range",
     "output_type": "error",
     "traceback": [
      "\u001b[0;31m---------------------------------------------------------------------------\u001b[0m",
      "\u001b[0;31mIndexError\u001b[0m                                Traceback (most recent call last)",
      "Cell \u001b[0;32mIn[24], line 4\u001b[0m\n\u001b[1;32m      2\u001b[0m sub_ast \u001b[38;5;241m=\u001b[39m ast\u001b[38;5;241m.\u001b[39mchildren()[\u001b[38;5;241m0\u001b[39m][\u001b[38;5;241m1\u001b[39m]\n\u001b[1;32m      3\u001b[0m \u001b[38;5;28;01mwhile\u001b[39;00m sub_ast:\n\u001b[0;32m----> 4\u001b[0m     sub_ast \u001b[38;5;241m=\u001b[39m \u001b[43msub_ast\u001b[49m\u001b[38;5;241;43m.\u001b[39;49m\u001b[43mchildren\u001b[49m\u001b[43m(\u001b[49m\u001b[43m)\u001b[49m\u001b[43m[\u001b[49m\u001b[38;5;241;43m1\u001b[39;49m\u001b[43m]\u001b[49m[\u001b[38;5;241m1\u001b[39m]\n\u001b[1;32m      5\u001b[0m     generator \u001b[38;5;241m=\u001b[39m c_generator\u001b[38;5;241m.\u001b[39mCGenerator()\n\u001b[1;32m      6\u001b[0m     \u001b[38;5;28mprint\u001b[39m(generator\u001b[38;5;241m.\u001b[39mvisit(ast))\n",
      "\u001b[0;31mIndexError\u001b[0m: tuple index out of range"
     ]
    }
   ],
   "source": [
    "# ast = (ast.children()[0][1].children()[1][1].children()[1][1].children()[0][1].children()[0][1])#.children())\n",
    "sub_ast = ast.children()[0][1]\n",
    "while sub_ast:\n",
    "    sub_ast = sub_ast.children()[1][1]\n",
    "    generator = c_generator.CGenerator()\n",
    "    print(generator.visit(ast))\n",
    "\n"
   ]
  },
  {
   "cell_type": "code",
   "execution_count": 39,
   "metadata": {},
   "outputs": [
    {
     "data": {
      "text/plain": [
       "(('cond',\n",
       "  BinaryOp(op='==',\n",
       "           left=ID(name='result'\n",
       "                   ),\n",
       "           right=Constant(type='int',\n",
       "                          value='1'\n",
       "                          )\n",
       "           )),\n",
       " ('iftrue',\n",
       "  Compound(block_items=[FuncCall(name=ID(name='printf'\n",
       "                                         ),\n",
       "                                 args=ExprList(exprs=[Constant(type='string',\n",
       "                                                               value='\"Executing critical code...\\\\n\"'\n",
       "                                                               )\n",
       "                                                     ]\n",
       "                                               )\n",
       "                                 )\n",
       "                       ]\n",
       "           )),\n",
       " ('iffalse',\n",
       "  Compound(block_items=[FuncCall(name=ID(name='printf'\n",
       "                                         ),\n",
       "                                 args=ExprList(exprs=[Constant(type='string',\n",
       "                                                               value='\"Exiting out...\\\\n\"'\n",
       "                                                               )\n",
       "                                                     ]\n",
       "                                               )\n",
       "                                 ),\n",
       "                        Return(expr=Constant(type='int',\n",
       "                                             value='1'\n",
       "                                             )\n",
       "                               )\n",
       "                       ]\n",
       "           )))"
      ]
     },
     "execution_count": 39,
     "metadata": {},
     "output_type": "execute_result"
    }
   ],
   "source": [
    "(ast.children()[0][1].body.block_items[1].children())#cond.right.value)"
   ]
  },
  {
   "cell_type": "code",
   "execution_count": null,
   "metadata": {},
   "outputs": [],
   "source": []
  }
 ],
 "metadata": {
  "kernelspec": {
   "display_name": "Python 3",
   "language": "python",
   "name": "python3"
  },
  "language_info": {
   "codemirror_mode": {
    "name": "ipython",
    "version": 3
   },
   "file_extension": ".py",
   "mimetype": "text/x-python",
   "name": "python",
   "nbconvert_exporter": "python",
   "pygments_lexer": "ipython3",
   "version": "3.10.12"
  },
  "orig_nbformat": 4
 },
 "nbformat": 4,
 "nbformat_minor": 2
}
