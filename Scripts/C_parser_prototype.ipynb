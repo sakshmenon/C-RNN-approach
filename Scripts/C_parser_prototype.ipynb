{
 "cells": [
  {
   "cell_type": "code",
   "execution_count": 3,
   "metadata": {},
   "outputs": [
    {
     "name": "stdout",
     "output_type": "stream",
     "text": [
      "\n",
      "int main(void)\n",
      "{\n",
      "    int result = 1;\n",
      "    if (result > 1)\n",
      "    {\n",
      "        if (result < 3) {\n",
      "            printf(\"Executing critical code...\\n\");\n",
      "        }\n",
      "    }\n",
      "    else\n",
      "    {\n",
      "        printf(\"Exiting out...\\n\");\n",
      "        return 1;\n",
      "    }\n",
      "\n",
      "    return 0;\n",
      "}\n"
     ]
    },
    {
     "name": "stderr",
     "output_type": "stream",
     "text": [
      "2024-03-27 13:09:35.602765: I tensorflow/core/common_runtime/pluggable_device/pluggable_device_factory.cc:303] Could not identify NUMA node of platform GPU ID 0, defaulting to 0. Your kernel may not have been built with NUMA support.\n",
      "2024-03-27 13:09:35.602831: I tensorflow/core/common_runtime/pluggable_device/pluggable_device_factory.cc:269] Created TensorFlow device (/device:GPU:0 with 0 MB memory) -> physical PluggableDevice (device: 0, name: METAL, pci bus id: <undefined>)\n"
     ]
    }
   ],
   "source": [
    "import sys\n",
    "\n",
    "sys.path.extend(['.', '..'])\n",
    "\n",
    "import platform\n",
    "import os\n",
    "import numpy as np\n",
    "import tensorflow as tf\n",
    "import keras\n",
    "from keras import layers\n",
    "\n",
    "gpu_token = tf.test.is_gpu_available('GPU')\n",
    "\n",
    "if platform.machine() == 'x86_64':\n",
    "    if gpu_token:\n",
    "        os.chdir('/home/ucdasec/Faulthunter-RNN-approach/manual_dataset')\n",
    "    else:\n",
    "        os.chdir(\"/home/sakshmeno/Documents/GitHub/C-RNN-approach/manual_dataset\")\n",
    "elif platform.machine() == 'arm64':\n",
    "    os.chdir(\"/Users/saksh.menon/Documents/GitHub/C-RNN-approach/manual_dataset\")\n",
    "\n",
    "from pycparser import c_parser, c_generator\n",
    "import pycparser\n",
    "\n",
    "text=[]\n",
    "with open('saksh_branch_simple_insecure.c') as obj:\n",
    "    temp = obj.read()\n",
    "    obj.seek(0)\n",
    "    while obj.tell()!=len(temp):\n",
    "        try:\n",
    "            line = obj.readline()\n",
    "            if line.__contains__(\"#include\"):\n",
    "                pass\n",
    "            else:\n",
    "                text.append(line)\n",
    "        except EOFError:\n",
    "            break\n",
    "\n",
    "text = \"\".join(text)\n",
    "print(text)\n"
   ]
  },
  {
   "cell_type": "code",
   "execution_count": 4,
   "metadata": {},
   "outputs": [],
   "source": [
    "parser = c_parser.CParser()\n",
    "generator = c_generator.CGenerator()\n",
    "ast = parser.parse(text, filename='??.c')\n",
    "branch_insecurities = {pycparser.c_ast.If: {'key': 'cond', 'branches': ('iftrue', 'iffalse')}} \n",
    "                    #    pycparser.c_ast.Switch: (),\n",
    "                    #    pycparser.c_ast.For: ()}\n",
    "\n",
    "HAMMING_WEIGHT = 4"
   ]
  },
  {
   "cell_type": "code",
   "execution_count": 14,
   "metadata": {},
   "outputs": [
    {
     "name": "stdout",
     "output_type": "stream",
     "text": [
      "<class 'pycparser.c_ast.Decl'>\n",
      "<class 'pycparser.c_ast.If'> : ('cond', BinaryOp(op='>',\n",
      "         left=ID(name='result'\n",
      "                 ),\n",
      "         right=Constant(type='int',\n",
      "                        value='1'\n",
      "                        )\n",
      "         ))\n",
      "iftrue  : <class 'pycparser.c_ast.If'>\n",
      "<class 'pycparser.c_ast.If'> : ('cond', BinaryOp(op='<',\n",
      "         left=ID(name='result'\n",
      "                 ),\n",
      "         right=Constant(type='int',\n",
      "                        value='3'\n",
      "                        )\n",
      "         ))\n",
      "iftrue  : <class 'pycparser.c_ast.FuncCall'>\n",
      "<class 'pycparser.c_ast.FuncCall'>\n",
      "iffalse  : False\n",
      "iffalse  : <class 'pycparser.c_ast.FuncCall'>\n",
      "<class 'pycparser.c_ast.FuncCall'>\n",
      "<class 'pycparser.c_ast.Return'>\n",
      "<class 'pycparser.c_ast.Return'>\n"
     ]
    }
   ],
   "source": [
    "parent_ast = ast.children()[0][1].body\n",
    "\n",
    "NODE_LIST = []\n",
    "\n",
    "def walk(parent_ast, flag):\n",
    "    if parent_ast.children():\n",
    "        sub_ast = parent_ast.children()\n",
    "        for node in sub_ast:\n",
    "            if type(node[1]) in list(branch_insecurities.keys()):\n",
    "                node_attrs = list((branch_insecurities[type(node[1])]['key'],) + branch_insecurities[type(node[1])]['branches'])\n",
    "                node_attr = {i: False for i in node_attrs}\n",
    "                for sub_node in node[1].children():\n",
    "                    node_attr[sub_node[0]] = sub_node\n",
    "\n",
    "                print(type(node[1]), end = \" : \")\n",
    "                print(node_attr[branch_insecurities[type(node[1])]['key']])\n",
    "                NODE_LIST.append(node_attr[branch_insecurities[type(node[1])]['key']])\n",
    "                for sub_node in branch_insecurities[type(node[1])]['branches']:\n",
    "                    print(sub_node, \" : {}\".format(type(node_attr[sub_node][1].block_items[0]) if node_attr[sub_node] else node_attr[sub_node]))\n",
    "                    if  node_attr[sub_node]:\n",
    "                        walk(node_attr[sub_node][1], 1)\n",
    "            # elif(flag):\n",
    "            else:\n",
    "                print(type(node[1]))\n",
    "                NODE_LIST.append(type(node[1]))\n",
    "        \n",
    "          \n",
    "walk(parent_ast, 0)\n",
    "\n"
   ]
  },
  {
   "cell_type": "code",
   "execution_count": 27,
   "metadata": {},
   "outputs": [
    {
     "data": {
      "text/plain": [
       "Decl(name='result',\n",
       "     quals=[\n",
       "           ],\n",
       "     align=[\n",
       "           ],\n",
       "     storage=[\n",
       "             ],\n",
       "     funcspec=[\n",
       "              ],\n",
       "     type=TypeDecl(declname='result',\n",
       "                   quals=[\n",
       "                         ],\n",
       "                   align=None,\n",
       "                   type=IdentifierType(names=['int'\n",
       "                                             ]\n",
       "                                       )\n",
       "                   ),\n",
       "     init=Constant(type='int',\n",
       "                   value='1'\n",
       "                   ),\n",
       "     bitsize=None\n",
       "     )"
      ]
     },
     "execution_count": 27,
     "metadata": {},
     "output_type": "execute_result"
    }
   ],
   "source": [
    "ast.children()[0][1].body.children()[0][1]"
   ]
  },
  {
   "cell_type": "code",
   "execution_count": 23,
   "metadata": {},
   "outputs": [],
   "source": [
    "((NODE_LIST)[2][1].right.value) = 'LOW_WEIGHT'"
   ]
  },
  {
   "cell_type": "code",
   "execution_count": 24,
   "metadata": {},
   "outputs": [
    {
     "data": {
      "text/plain": [
       "[pycparser.c_ast.Decl,\n",
       " ('cond', BinaryOp(op='>',\n",
       "           left=ID(name='result'\n",
       "                   ),\n",
       "           right=Constant(type='int',\n",
       "                          value='LOW_WEIGHT'\n",
       "                          )\n",
       "           )),\n",
       " ('cond',\n",
       "  BinaryOp(op='<',\n",
       "           left=ID(name='result'\n",
       "                   ),\n",
       "           right=Constant(type='int',\n",
       "                          value='LOW_WEIGHT'\n",
       "                          )\n",
       "           )),\n",
       " pycparser.c_ast.FuncCall,\n",
       " pycparser.c_ast.FuncCall,\n",
       " pycparser.c_ast.Return,\n",
       " pycparser.c_ast.Return]"
      ]
     },
     "execution_count": 24,
     "metadata": {},
     "output_type": "execute_result"
    }
   ],
   "source": [
    "NODE_LIST"
   ]
  },
  {
   "cell_type": "code",
   "execution_count": 44,
   "metadata": {},
   "outputs": [
    {
     "data": {
      "text/plain": [
       "['Alignas',\n",
       " 'ArrayDecl',\n",
       " 'ArrayRef',\n",
       " 'Assignment',\n",
       " 'BinaryOp',\n",
       " 'Break',\n",
       " 'Case',\n",
       " 'Cast',\n",
       " 'Compound',\n",
       " 'CompoundLiteral',\n",
       " 'Constant',\n",
       " 'Continue',\n",
       " 'Decl',\n",
       " 'DeclList',\n",
       " 'Default',\n",
       " 'DoWhile',\n",
       " 'EllipsisParam',\n",
       " 'EmptyStatement',\n",
       " 'Enum',\n",
       " 'Enumerator',\n",
       " 'EnumeratorList',\n",
       " 'ExprList',\n",
       " 'FileAST',\n",
       " 'For',\n",
       " 'FuncCall',\n",
       " 'FuncDecl',\n",
       " 'FuncDef',\n",
       " 'Goto',\n",
       " 'ID',\n",
       " 'IdentifierType',\n",
       " 'If',\n",
       " 'InitList',\n",
       " 'Label',\n",
       " 'NamedInitializer',\n",
       " 'Node',\n",
       " 'NodeVisitor',\n",
       " 'ParamList',\n",
       " 'Pragma',\n",
       " 'PtrDecl',\n",
       " 'Return',\n",
       " 'StaticAssert',\n",
       " 'Struct',\n",
       " 'StructRef',\n",
       " 'Switch',\n",
       " 'TernaryOp',\n",
       " 'TypeDecl',\n",
       " 'Typedef',\n",
       " 'Typename',\n",
       " 'UnaryOp',\n",
       " 'Union',\n",
       " 'While',\n",
       " '__builtins__',\n",
       " '__cached__',\n",
       " '__doc__',\n",
       " '__file__',\n",
       " '__loader__',\n",
       " '__name__',\n",
       " '__package__',\n",
       " '__spec__',\n",
       " '_repr',\n",
       " 'sys']"
      ]
     },
     "execution_count": 44,
     "metadata": {},
     "output_type": "execute_result"
    }
   ],
   "source": [
    "dir(pycparser.c_ast)"
   ]
  }
 ],
 "metadata": {
  "kernelspec": {
   "display_name": "Python 3",
   "language": "python",
   "name": "python3"
  },
  "language_info": {
   "codemirror_mode": {
    "name": "ipython",
    "version": 3
   },
   "file_extension": ".py",
   "mimetype": "text/x-python",
   "name": "python",
   "nbconvert_exporter": "python",
   "pygments_lexer": "ipython3",
   "version": "3.10.13"
  },
  "orig_nbformat": 4
 },
 "nbformat": 4,
 "nbformat_minor": 2
}
