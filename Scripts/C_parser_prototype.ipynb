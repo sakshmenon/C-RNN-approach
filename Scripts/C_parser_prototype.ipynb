{
 "cells": [
  {
   "cell_type": "code",
   "execution_count": 4,
   "metadata": {},
   "outputs": [
    {
     "name": "stdout",
     "output_type": "stream",
     "text": [
      "\n",
      "int main(void)\n",
      "{\n",
      "    int result = 1;\n",
      "    if (result == 1)\n",
      "    {\n",
      "        printf(\"Executing critical code...\\n\");\n",
      "    }\n",
      "    else\n",
      "    {\n",
      "        printf(\"Exiting out...\\n\");\n",
      "        return 1;\n",
      "    }\n",
      "\n",
      "    return 0;\n",
      "}\n"
     ]
    },
    {
     "name": "stderr",
     "output_type": "stream",
     "text": [
      "2024-03-24 19:21:50.263964: I tensorflow/core/common_runtime/pluggable_device/pluggable_device_factory.cc:303] Could not identify NUMA node of platform GPU ID 0, defaulting to 0. Your kernel may not have been built with NUMA support.\n",
      "2024-03-24 19:21:50.263991: I tensorflow/core/common_runtime/pluggable_device/pluggable_device_factory.cc:269] Created TensorFlow device (/device:GPU:0 with 0 MB memory) -> physical PluggableDevice (device: 0, name: METAL, pci bus id: <undefined>)\n"
     ]
    }
   ],
   "source": [
    "import sys\n",
    "\n",
    "sys.path.extend(['.', '..'])\n",
    "\n",
    "import platform\n",
    "import os\n",
    "import numpy as np\n",
    "import tensorflow as tf\n",
    "import keras\n",
    "from keras import layers\n",
    "\n",
    "gpu_token = tf.test.is_gpu_available('GPU')\n",
    "\n",
    "if platform.machine() == 'x86_64':\n",
    "    if gpu_token:\n",
    "        os.chdir('/home/ucdasec/Faulthunter-RNN-approach/manual_dataset')\n",
    "    else:\n",
    "        os.chdir(\"/home/sakshmeno/Documents/GitHub/C-RNN-approach/manual_dataset\")\n",
    "elif platform.machine() == 'arm64':\n",
    "    os.chdir(\"/Users/saksh.menon/Documents/GitHub/C-RNN-approach/manual_dataset\")\n",
    "\n",
    "from pycparser import c_parser \n",
    "\n",
    "text=[]\n",
    "with open('guillermo_branch_simple_insecure.c') as obj:\n",
    "    temp = obj.read()\n",
    "    obj.seek(0)\n",
    "    while obj.tell()!=len(temp):\n",
    "        try:\n",
    "            line = obj.readline()\n",
    "            if line.__contains__(\"#include\"):\n",
    "                pass\n",
    "            else:\n",
    "                text.append(line)\n",
    "        except EOFError:\n",
    "            break\n",
    "\n",
    "text = \"\".join(text)\n",
    "print(text)\n",
    "\n",
    "parser = c_parser.CParser()\n",
    "ast = parser.parse(text, filename='simple_password_check.c')\n"
   ]
  },
  {
   "cell_type": "code",
   "execution_count": 35,
   "metadata": {},
   "outputs": [
    {
     "data": {
      "text/plain": [
       "tuple"
      ]
     },
     "execution_count": 35,
     "metadata": {},
     "output_type": "execute_result"
    }
   ],
   "source": [
    "type(ast.children()[0][1].children()[1][1].children()[1][1].children()[0][1].children()[0][1].children())"
   ]
  },
  {
   "cell_type": "code",
   "execution_count": null,
   "metadata": {},
   "outputs": [],
   "source": [
    "from pycparser import c_generator, parse_file\n",
    "def translate_to_c(filename):\n",
    "    \"\"\" Simply use the c_generator module to emit a parsed AST.\n",
    "    \"\"\"\n",
    "    ast = parse_file(filename, use_cpp=True)\n",
    "    generator = c_generator.CGenerator()\n",
    "    print(generator.visit(ast))\n",
    "\n"
   ]
  },
  {
   "cell_type": "code",
   "execution_count": 39,
   "metadata": {},
   "outputs": [
    {
     "data": {
      "text/plain": [
       "(('cond',\n",
       "  BinaryOp(op='==',\n",
       "           left=ID(name='result'\n",
       "                   ),\n",
       "           right=Constant(type='int',\n",
       "                          value='1'\n",
       "                          )\n",
       "           )),\n",
       " ('iftrue',\n",
       "  Compound(block_items=[FuncCall(name=ID(name='printf'\n",
       "                                         ),\n",
       "                                 args=ExprList(exprs=[Constant(type='string',\n",
       "                                                               value='\"Executing critical code...\\\\n\"'\n",
       "                                                               )\n",
       "                                                     ]\n",
       "                                               )\n",
       "                                 )\n",
       "                       ]\n",
       "           )),\n",
       " ('iffalse',\n",
       "  Compound(block_items=[FuncCall(name=ID(name='printf'\n",
       "                                         ),\n",
       "                                 args=ExprList(exprs=[Constant(type='string',\n",
       "                                                               value='\"Exiting out...\\\\n\"'\n",
       "                                                               )\n",
       "                                                     ]\n",
       "                                               )\n",
       "                                 ),\n",
       "                        Return(expr=Constant(type='int',\n",
       "                                             value='1'\n",
       "                                             )\n",
       "                               )\n",
       "                       ]\n",
       "           )))"
      ]
     },
     "execution_count": 39,
     "metadata": {},
     "output_type": "execute_result"
    }
   ],
   "source": [
    "(ast.children()[0][1].body.block_items[1].children())#cond.right.value)"
   ]
  },
  {
   "cell_type": "code",
   "execution_count": null,
   "metadata": {},
   "outputs": [],
   "source": []
  },
  {
   "cell_type": "code",
   "execution_count": 50,
   "metadata": {},
   "outputs": [
    {
     "data": {
      "text/plain": [
       "['Alignas',\n",
       " 'ArrayDecl',\n",
       " 'ArrayRef',\n",
       " 'Assignment',\n",
       " 'BinaryOp',\n",
       " 'Break',\n",
       " 'Case',\n",
       " 'Cast',\n",
       " 'Compound',\n",
       " 'CompoundLiteral',\n",
       " 'Constant',\n",
       " 'Continue',\n",
       " 'Decl',\n",
       " 'DeclList',\n",
       " 'Default',\n",
       " 'DoWhile',\n",
       " 'EllipsisParam',\n",
       " 'EmptyStatement',\n",
       " 'Enum',\n",
       " 'Enumerator',\n",
       " 'EnumeratorList',\n",
       " 'ExprList',\n",
       " 'FileAST',\n",
       " 'For',\n",
       " 'FuncCall',\n",
       " 'FuncDecl',\n",
       " 'FuncDef',\n",
       " 'Goto',\n",
       " 'ID',\n",
       " 'IdentifierType',\n",
       " 'If',\n",
       " 'InitList',\n",
       " 'Label',\n",
       " 'NamedInitializer',\n",
       " 'Node',\n",
       " 'NodeVisitor',\n",
       " 'ParamList',\n",
       " 'Pragma',\n",
       " 'PtrDecl',\n",
       " 'Return',\n",
       " 'StaticAssert',\n",
       " 'Struct',\n",
       " 'StructRef',\n",
       " 'Switch',\n",
       " 'TernaryOp',\n",
       " 'TypeDecl',\n",
       " 'Typedef',\n",
       " 'Typename',\n",
       " 'UnaryOp',\n",
       " 'Union',\n",
       " 'While',\n",
       " '__builtins__',\n",
       " '__cached__',\n",
       " '__doc__',\n",
       " '__file__',\n",
       " '__loader__',\n",
       " '__name__',\n",
       " '__package__',\n",
       " '__spec__',\n",
       " '_repr',\n",
       " 'sys']"
      ]
     },
     "execution_count": 50,
     "metadata": {},
     "output_type": "execute_result"
    }
   ],
   "source": [
    "dir(pycparser.c_ast)"
   ]
  }
 ],
 "metadata": {
  "kernelspec": {
   "display_name": "Python 3",
   "language": "python",
   "name": "python3"
  },
  "language_info": {
   "codemirror_mode": {
    "name": "ipython",
    "version": 3
   },
   "file_extension": ".py",
   "mimetype": "text/x-python",
   "name": "python",
   "nbconvert_exporter": "python",
   "pygments_lexer": "ipython3",
   "version": "3.10.13"
  },
  "orig_nbformat": 4
 },
 "nbformat": 4,
 "nbformat_minor": 2
}
