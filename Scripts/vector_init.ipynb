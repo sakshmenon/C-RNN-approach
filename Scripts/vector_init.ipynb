{
 "cells": [
  {
   "cell_type": "code",
   "execution_count": 13,
   "metadata": {},
   "outputs": [],
   "source": [
    "import io\n",
    "import re\n",
    "import string\n",
    "import tqdm\n",
    "import os\n",
    "import numpy as np\n",
    "\n",
    "import tensorflow as tf\n",
    "from tensorflow.keras import layers"
   ]
  },
  {
   "cell_type": "code",
   "execution_count": 14,
   "metadata": {},
   "outputs": [],
   "source": [
    "os.chdir(\"/home/sakshmeno/Documents/GitHub/C-RNN-approach/Labels\")\n",
    "# os.chdir(\"/Users/saksh.menon/Documents/GitHub/C-RNN-approach/Labels\")\n",
    "with open(\"DATASET.txt\") as dataset_obj:\n",
    "    codeLines = dataset_obj.read()"
   ]
  },
  {
   "cell_type": "markdown",
   "metadata": {},
   "source": [
    "#Filtering"
   ]
  },
  {
   "cell_type": "code",
   "execution_count": 15,
   "metadata": {},
   "outputs": [],
   "source": [
    "def code_preprocessing(file):\n",
    "    with open(file) as dataset_obj:\n",
    "        codeLines = dataset_obj.read()\n",
    "    comment_lines = []\n",
    "    raw_codeLines = codeLines.replace(\"\\t\",\"\").split(\"\\n\")\n",
    "    multi_line_flag = 0\n",
    "    for line_number in range(len(raw_codeLines)):\n",
    "        if multi_line_flag:\n",
    "            if raw_codeLines[line_number].__contains__(\"*/\"):\n",
    "                multi_line_flag = 0\n",
    "            comment_lines.append(line_number)\n",
    "        elif raw_codeLines[line_number].__contains__(\"/*\"):\n",
    "            if raw_codeLines[line_number].startswith(\"/*\") and not(raw_codeLines[line_number].__contains__(\"*/\")):\n",
    "                comment_lines.append(line_number)\n",
    "                multi_line_flag = 1\n",
    "            elif raw_codeLines[line_number].__contains__(\"/*\") and not(raw_codeLines[line_number].startswith(\"/*\")):\n",
    "                if raw_codeLines[line_number].__contains__(\"*/\"):\n",
    "                    psuedo_multi_line_start = raw_codeLines[line_number].find(\"/*\")\n",
    "                    psuedo_multi_line_end = raw_codeLines[line_number].find(\"*/\")\n",
    "                    temporary_line = raw_codeLines[line_number][:psuedo_multi_line_start] + raw_codeLines[line_number][psuedo_multi_line_end+2:]\n",
    "                    raw_codeLines[line_number] = temporary_line\n",
    "\n",
    "        elif raw_codeLines[line_number].startswith(\"//\"):\n",
    "            comment_lines.append(line_number)\n",
    "        elif raw_codeLines[line_number].__contains__(\"//\"):\n",
    "            comment_start = raw_codeLines[line_number].find('//')\n",
    "            raw_codeLines[line_number] = raw_codeLines[line_number][:comment_start]\n",
    "            \n",
    "    comment_lines.reverse()\n",
    "    for i in comment_lines:\n",
    "        raw_codeLines.pop(i)\n",
    "\n",
    "    def insert_space(string, index):\n",
    "        string_copy = \"\"\n",
    "        for i in range(len(string)):\n",
    "            if i==(index):\n",
    "                string_copy += \" \"\n",
    "                string_copy += string[i]\n",
    "                string_copy += \" \"\n",
    "                continue\n",
    "            string_copy += string[i]\n",
    "        return string_copy\n",
    "\n",
    "    def find_char_indices(input_string, char):\n",
    "        indices = []\n",
    "        replacement_token = 0\n",
    "        for index, character in enumerate(input_string):\n",
    "            if character == char:\n",
    "                indices.append(index + 2*replacement_token)\n",
    "                replacement_token+=1\n",
    "        return indices\n",
    "\n",
    "    def space_out(string, char):\n",
    "        indices = find_char_indices(string, char)\n",
    "\n",
    "        for i in indices:\n",
    "            string = insert_space(string, i)\n",
    "        return string\n",
    "\n",
    "    for line_number in range(len(raw_codeLines)):\n",
    "        placeHolder = raw_codeLines[line_number]\n",
    "        placeHolder = space_out(placeHolder, \";\")\n",
    "        placeHolder = space_out(placeHolder, \"(\")\n",
    "        placeHolder = space_out(placeHolder, \")\")\n",
    "        placeHolder = space_out(placeHolder, \",\")\n",
    "        if placeHolder.endswith(\";\"):\n",
    "            raw_codeLines[line_number] = \"<start> \" + placeHolder.replace(\";\",\"<end>\")\n",
    "        elif not(placeHolder.endswith(\";\")):\n",
    "            raw_codeLines[line_number] = \"<start> \" + placeHolder + \" <end>\"\n",
    "\n",
    "    return raw_codeLines\n"
   ]
  },
  {
   "cell_type": "code",
   "execution_count": 16,
   "metadata": {},
   "outputs": [],
   "source": [
    "processed_codeLines = code_preprocessing(\"DATASET.txt\")\n",
    "processed_secure_codeLines = code_preprocessing(\"SECURE_DATA.txt\")\n",
    "processed_insecure_codeLines = code_preprocessing(\"INSECURE_DATA.txt\")\n"
   ]
  },
  {
   "cell_type": "code",
   "execution_count": 19,
   "metadata": {},
   "outputs": [
    {
     "data": {
      "text/plain": [
       "'<start> #include <Compiler.h> <end>'"
      ]
     },
     "execution_count": 19,
     "metadata": {},
     "output_type": "execute_result"
    }
   ],
   "source": [
    "processed_secure_codeLines[2]"
   ]
  },
  {
   "cell_type": "code",
   "execution_count": 5,
   "metadata": {},
   "outputs": [
    {
     "data": {
      "text/plain": [
       "3066"
      ]
     },
     "execution_count": 5,
     "metadata": {},
     "output_type": "execute_result"
    }
   ],
   "source": [
    "vocab, index = {}, 1  # start indexing from 1\n",
    "vocab['<pad>'] = 0  # add a padding token\n",
    "\n",
    "for line in processed_codeLines:\n",
    "  tokens = list(line.split())\n",
    "  for token in tokens:\n",
    "    if token not in vocab:\n",
    "      vocab[token] = index\n",
    "      index += 1\n",
    "# vocab_size = len(vocab)\n",
    "# inverse_vocab = {index: token for token, index in vocab.items()}\n",
    "# print(inverse_vocab)\n",
    "len(vocab.keys())"
   ]
  },
  {
   "cell_type": "code",
   "execution_count": 6,
   "metadata": {},
   "outputs": [
    {
     "data": {
      "text/plain": [
       "array([0., 0., 0., ..., 0., 0., 0.])"
      ]
     },
     "execution_count": 6,
     "metadata": {},
     "output_type": "execute_result"
    }
   ],
   "source": [
    "def one_hot_encode(categories, category_to_index):\n",
    "    gloabl_OHV_dictionary = {}\n",
    "    num_categories = len(categories)\n",
    "    num_indices = len(category_to_index)\n",
    "    one_hot_vectors = np.zeros((num_categories, num_indices))\n",
    "    for i, category in enumerate(categories):\n",
    "        index = category_to_index.get(category)\n",
    "        if index is not None:\n",
    "            one_hot_vectors[i, index] = 1\n",
    "            gloabl_OHV_dictionary[category] = one_hot_vectors[i]\n",
    "    return one_hot_vectors, gloabl_OHV_dictionary\n",
    "\n",
    "global_one_hot_vectors, gloabl_OHV_dictionary = one_hot_encode(vocab.keys(), vocab)\n",
    "# print(global_one_hot_vectors)\n",
    "# global_one_hot_vectors[0].shape\n",
    "gloabl_OHV_dictionary['<Compiler.h>']\n"
   ]
  },
  {
   "cell_type": "markdown",
   "metadata": {},
   "source": [
    "Secure Reconstruction"
   ]
  },
  {
   "cell_type": "code",
   "execution_count": 7,
   "metadata": {},
   "outputs": [],
   "source": [
    "for line in range(len(processed_secure_codeLines)):\n",
    "    processed_secure_codeLines[line] = processed_secure_codeLines[line].split()\n",
    "    for element_index in range(len(processed_secure_codeLines[line])):\n",
    "        processed_secure_codeLines[line][element_index] = gloabl_OHV_dictionary[processed_secure_codeLines[line][element_index]]"
   ]
  },
  {
   "cell_type": "markdown",
   "metadata": {},
   "source": [
    "Insecure Reconstruction"
   ]
  },
  {
   "cell_type": "code",
   "execution_count": 8,
   "metadata": {},
   "outputs": [],
   "source": [
    "for line in range(len(processed_insecure_codeLines)):\n",
    "    processed_insecure_codeLines[line] = processed_insecure_codeLines[line].split()\n",
    "    for element_index in range(len(processed_insecure_codeLines[line])):\n",
    "        processed_insecure_codeLines[line][element_index] = gloabl_OHV_dictionary[processed_insecure_codeLines[line][element_index]]"
   ]
  },
  {
   "cell_type": "markdown",
   "metadata": {},
   "source": [
    "Padding Implementation"
   ]
  },
  {
   "cell_type": "code",
   "execution_count": 9,
   "metadata": {},
   "outputs": [],
   "source": [
    "max_len = 0\n",
    "for i in (processed_secure_codeLines):\n",
    "    if  len(i) > max_len:\n",
    "        max_len = (len(i))\n",
    "for i in enumerate(processed_secure_codeLines):\n",
    "    # print(i[1])\n",
    "    for iter in range(0, max_len - len(i[1])):\n",
    "        \n",
    "        processed_secure_codeLines[i[0]].insert(-1, gloabl_OHV_dictionary['<pad>'])\n",
    "\n",
    "max_len = 0\n",
    "for i in (processed_insecure_codeLines):\n",
    "    if  len(i) > max_len:\n",
    "        max_len = (len(i))\n",
    "for i in enumerate(processed_insecure_codeLines):\n",
    "    for iter in range(0, max_len - len(i[1])):\n",
    "        processed_insecure_codeLines[i[0]].insert(-1, gloabl_OHV_dictionary['<pad>'])"
   ]
  },
  {
   "cell_type": "code",
   "execution_count": 12,
   "metadata": {},
   "outputs": [
    {
     "data": {
      "text/plain": [
       "[array([0., 1., 0., ..., 0., 0., 0.]),\n",
       " array([1., 0., 0., ..., 0., 0., 0.]),\n",
       " array([1., 0., 0., ..., 0., 0., 0.]),\n",
       " array([1., 0., 0., ..., 0., 0., 0.]),\n",
       " array([1., 0., 0., ..., 0., 0., 0.]),\n",
       " array([1., 0., 0., ..., 0., 0., 0.]),\n",
       " array([1., 0., 0., ..., 0., 0., 0.]),\n",
       " array([1., 0., 0., ..., 0., 0., 0.]),\n",
       " array([1., 0., 0., ..., 0., 0., 0.]),\n",
       " array([1., 0., 0., ..., 0., 0., 0.]),\n",
       " array([1., 0., 0., ..., 0., 0., 0.]),\n",
       " array([1., 0., 0., ..., 0., 0., 0.]),\n",
       " array([1., 0., 0., ..., 0., 0., 0.]),\n",
       " array([1., 0., 0., ..., 0., 0., 0.]),\n",
       " array([1., 0., 0., ..., 0., 0., 0.]),\n",
       " array([1., 0., 0., ..., 0., 0., 0.]),\n",
       " array([1., 0., 0., ..., 0., 0., 0.]),\n",
       " array([1., 0., 0., ..., 0., 0., 0.]),\n",
       " array([1., 0., 0., ..., 0., 0., 0.]),\n",
       " array([1., 0., 0., ..., 0., 0., 0.]),\n",
       " array([1., 0., 0., ..., 0., 0., 0.]),\n",
       " array([1., 0., 0., ..., 0., 0., 0.]),\n",
       " array([1., 0., 0., ..., 0., 0., 0.]),\n",
       " array([1., 0., 0., ..., 0., 0., 0.]),\n",
       " array([1., 0., 0., ..., 0., 0., 0.]),\n",
       " array([1., 0., 0., ..., 0., 0., 0.]),\n",
       " array([1., 0., 0., ..., 0., 0., 0.]),\n",
       " array([1., 0., 0., ..., 0., 0., 0.]),\n",
       " array([1., 0., 0., ..., 0., 0., 0.]),\n",
       " array([1., 0., 0., ..., 0., 0., 0.]),\n",
       " array([1., 0., 0., ..., 0., 0., 0.]),\n",
       " array([1., 0., 0., ..., 0., 0., 0.]),\n",
       " array([1., 0., 0., ..., 0., 0., 0.]),\n",
       " array([1., 0., 0., ..., 0., 0., 0.]),\n",
       " array([1., 0., 0., ..., 0., 0., 0.]),\n",
       " array([1., 0., 0., ..., 0., 0., 0.]),\n",
       " array([1., 0., 0., ..., 0., 0., 0.]),\n",
       " array([1., 0., 0., ..., 0., 0., 0.]),\n",
       " array([1., 0., 0., ..., 0., 0., 0.]),\n",
       " array([1., 0., 0., ..., 0., 0., 0.]),\n",
       " array([1., 0., 0., ..., 0., 0., 0.]),\n",
       " array([1., 0., 0., ..., 0., 0., 0.]),\n",
       " array([1., 0., 0., ..., 0., 0., 0.]),\n",
       " array([1., 0., 0., ..., 0., 0., 0.]),\n",
       " array([1., 0., 0., ..., 0., 0., 0.]),\n",
       " array([1., 0., 0., ..., 0., 0., 0.]),\n",
       " array([1., 0., 0., ..., 0., 0., 0.]),\n",
       " array([0., 0., 1., ..., 0., 0., 0.])]"
      ]
     },
     "execution_count": 12,
     "metadata": {},
     "output_type": "execute_result"
    }
   ],
   "source": [
    "processed_secure_codeLines[0]"
   ]
  }
 ],
 "metadata": {
  "kernelspec": {
   "display_name": "Python 3",
   "language": "python",
   "name": "python3"
  },
  "language_info": {
   "codemirror_mode": {
    "name": "ipython",
    "version": 3
   },
   "file_extension": ".py",
   "mimetype": "text/x-python",
   "name": "python",
   "nbconvert_exporter": "python",
   "pygments_lexer": "ipython3",
   "version": "3.10.12"
  }
 },
 "nbformat": 4,
 "nbformat_minor": 2
}
