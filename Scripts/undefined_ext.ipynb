{
 "cells": [
  {
   "cell_type": "code",
   "execution_count": 2,
   "metadata": {},
   "outputs": [
    {
     "name": "stderr",
     "output_type": "stream",
     "text": [
      "2024-04-23 02:53:17.550047: I tensorflow/core/common_runtime/pluggable_device/pluggable_device_factory.cc:303] Could not identify NUMA node of platform GPU ID 0, defaulting to 0. Your kernel may not have been built with NUMA support.\n",
      "2024-04-23 02:53:17.550085: I tensorflow/core/common_runtime/pluggable_device/pluggable_device_factory.cc:269] Created TensorFlow device (/device:GPU:0 with 0 MB memory) -> physical PluggableDevice (device: 0, name: METAL, pci bus id: <undefined>)\n"
     ]
    }
   ],
   "source": [
    "import sys\n",
    "\n",
    "sys.path.extend(['.', '..'])\n",
    "\n",
    "import platform\n",
    "import os\n",
    "import numpy as np\n",
    "import tensorflow as tf\n",
    "import keras\n",
    "from keras import layers\n",
    "import pandas as pd\n",
    "\n",
    "gpu_token = tf.test.is_gpu_available('GPU')\n",
    "\n",
    "if platform.machine() == 'arm64':\n",
    "    os.chdir(\"/Users/saksh.menon/Documents/GitHub/C-RNN-approach/manual_dataset\")\n",
    "\n",
    "from pycparser import c_parser, c_generator\n",
    "import pycparser\n",
    "from Utils.w2b_encoding_pt import *\n",
    "from Utils.cparser_dataframe_gen import *\n"
   ]
  },
  {
   "cell_type": "code",
   "execution_count": 3,
   "metadata": {},
   "outputs": [],
   "source": [
    "raw_code, comments = code_preprocessing('saksh_parser_simple.c') # remove comments\n",
    "uvt, moded_code = find_undefined_types_in_variables(raw_code, gpu_token) # replacing undefined types in variables with 'int' \n",
    "uft, remoded_code = find_undefined_function_types(moded_code, gpu_token) # replacing undefined function types with 'int'"
   ]
  },
  {
   "cell_type": "code",
   "execution_count": 9,
   "metadata": {},
   "outputs": [
    {
     "data": {
      "text/plain": [
       "'#include <stdio.h>  int main ( void ){  printf ( \"Executing critical code...\\\\n\" );  return 0 ;  }  '"
      ]
     },
     "execution_count": 9,
     "metadata": {},
     "output_type": "execute_result"
    }
   ],
   "source": [
    "text = remoded_code.replace(\"  \",\"\").split('\\n')\n",
    "text = \" \".join(text)\n",
    "text\n",
    "# text=text.replace(\" \",\"\")\n",
    "# text"
   ]
  },
  {
   "cell_type": "code",
   "execution_count": 10,
   "metadata": {},
   "outputs": [
    {
     "ename": "ParseError",
     "evalue": "??.c:1:1: Directives not supported yet",
     "output_type": "error",
     "traceback": [
      "\u001b[0;31m---------------------------------------------------------------------------\u001b[0m",
      "\u001b[0;31mParseError\u001b[0m                                Traceback (most recent call last)",
      "Cell \u001b[0;32mIn[10], line 4\u001b[0m\n\u001b[1;32m      2\u001b[0m parser \u001b[39m=\u001b[39m c_parser\u001b[39m.\u001b[39mCParser()\n\u001b[1;32m      3\u001b[0m generator \u001b[39m=\u001b[39m c_generator\u001b[39m.\u001b[39mCGenerator()\n\u001b[0;32m----> 4\u001b[0m ast \u001b[39m=\u001b[39m parser\u001b[39m.\u001b[39;49mparse(text, filename\u001b[39m=\u001b[39;49m\u001b[39m'\u001b[39;49m\u001b[39m??.c\u001b[39;49m\u001b[39m'\u001b[39;49m)\n\u001b[1;32m      5\u001b[0m explore \u001b[39m=\u001b[39m {pycparser\u001b[39m.\u001b[39mc_ast\u001b[39m.\u001b[39mIf: {\u001b[39m'\u001b[39m\u001b[39mnode\u001b[39m\u001b[39m'\u001b[39m: (),\u001b[39m'\u001b[39m\u001b[39mkey\u001b[39m\u001b[39m'\u001b[39m: \u001b[39m'\u001b[39m\u001b[39mcond\u001b[39m\u001b[39m'\u001b[39m, \u001b[39m'\u001b[39m\u001b[39mbranches\u001b[39m\u001b[39m'\u001b[39m: (\u001b[39m'\u001b[39m\u001b[39miftrue\u001b[39m\u001b[39m'\u001b[39m, \u001b[39m'\u001b[39m\u001b[39miffalse\u001b[39m\u001b[39m'\u001b[39m)}, \n\u001b[1;32m      6\u001b[0m                        pycparser\u001b[39m.\u001b[39mc_ast\u001b[39m.\u001b[39mFuncCall: {\u001b[39m'\u001b[39m\u001b[39mnode\u001b[39m\u001b[39m'\u001b[39m: (),\u001b[39m'\u001b[39m\u001b[39mkey\u001b[39m\u001b[39m'\u001b[39m : \u001b[39m'\u001b[39m\u001b[39mname\u001b[39m\u001b[39m'\u001b[39m , \u001b[39m'\u001b[39m\u001b[39mbranches\u001b[39m\u001b[39m'\u001b[39m: ()},\n\u001b[1;32m      7\u001b[0m                        pycparser\u001b[39m.\u001b[39mc_ast\u001b[39m.\u001b[39mFuncDef: {\u001b[39m'\u001b[39m\u001b[39mnode\u001b[39m\u001b[39m'\u001b[39m: (),\u001b[39m'\u001b[39m\u001b[39mkey\u001b[39m\u001b[39m'\u001b[39m : \u001b[39m'\u001b[39m\u001b[39mdecl\u001b[39m\u001b[39m'\u001b[39m, \u001b[39m'\u001b[39m\u001b[39mbranches\u001b[39m\u001b[39m'\u001b[39m: (\u001b[39m'\u001b[39m\u001b[39mbody\u001b[39m\u001b[39m'\u001b[39m,)},\n\u001b[1;32m      8\u001b[0m                        pycparser\u001b[39m.\u001b[39mc_ast\u001b[39m.\u001b[39mFileAST: {\u001b[39m'\u001b[39m\u001b[39mnode\u001b[39m\u001b[39m'\u001b[39m: (),\u001b[39m'\u001b[39m\u001b[39mkey\u001b[39m\u001b[39m'\u001b[39m : \u001b[39m'\u001b[39m\u001b[39mext[0]\u001b[39m\u001b[39m'\u001b[39m, \u001b[39m'\u001b[39m\u001b[39mbranches\u001b[39m\u001b[39m'\u001b[39m: ()}\n\u001b[1;32m      9\u001b[0m                        } \n\u001b[1;32m     10\u001b[0m                     \u001b[39m#    pycparser.c_ast.Switch: (),\u001b[39;00m\n\u001b[1;32m     11\u001b[0m                     \u001b[39m#    pycparser.c_ast.For: ()}\u001b[39;00m\n",
      "File \u001b[0;32m~/miniconda3/envs/tensorflow/lib/python3.10/site-packages/pycparser/c_parser.py:147\u001b[0m, in \u001b[0;36mCParser.parse\u001b[0;34m(self, text, filename, debug)\u001b[0m\n\u001b[1;32m    145\u001b[0m \u001b[39mself\u001b[39m\u001b[39m.\u001b[39m_scope_stack \u001b[39m=\u001b[39m [\u001b[39mdict\u001b[39m()]\n\u001b[1;32m    146\u001b[0m \u001b[39mself\u001b[39m\u001b[39m.\u001b[39m_last_yielded_token \u001b[39m=\u001b[39m \u001b[39mNone\u001b[39;00m\n\u001b[0;32m--> 147\u001b[0m \u001b[39mreturn\u001b[39;00m \u001b[39mself\u001b[39;49m\u001b[39m.\u001b[39;49mcparser\u001b[39m.\u001b[39;49mparse(\n\u001b[1;32m    148\u001b[0m         \u001b[39minput\u001b[39;49m\u001b[39m=\u001b[39;49mtext,\n\u001b[1;32m    149\u001b[0m         lexer\u001b[39m=\u001b[39;49m\u001b[39mself\u001b[39;49m\u001b[39m.\u001b[39;49mclex,\n\u001b[1;32m    150\u001b[0m         debug\u001b[39m=\u001b[39;49mdebug)\n",
      "File \u001b[0;32m~/miniconda3/envs/tensorflow/lib/python3.10/site-packages/pycparser/ply/yacc.py:331\u001b[0m, in \u001b[0;36mLRParser.parse\u001b[0;34m(self, input, lexer, debug, tracking, tokenfunc)\u001b[0m\n\u001b[1;32m    329\u001b[0m     \u001b[39mreturn\u001b[39;00m \u001b[39mself\u001b[39m\u001b[39m.\u001b[39mparseopt(\u001b[39minput\u001b[39m, lexer, debug, tracking, tokenfunc)\n\u001b[1;32m    330\u001b[0m \u001b[39melse\u001b[39;00m:\n\u001b[0;32m--> 331\u001b[0m     \u001b[39mreturn\u001b[39;00m \u001b[39mself\u001b[39;49m\u001b[39m.\u001b[39;49mparseopt_notrack(\u001b[39minput\u001b[39;49m, lexer, debug, tracking, tokenfunc)\n",
      "File \u001b[0;32m~/miniconda3/envs/tensorflow/lib/python3.10/site-packages/pycparser/ply/yacc.py:1118\u001b[0m, in \u001b[0;36mLRParser.parseopt_notrack\u001b[0;34m(self, input, lexer, debug, tracking, tokenfunc)\u001b[0m\n\u001b[1;32m   1116\u001b[0m \u001b[39mdel\u001b[39;00m symstack[\u001b[39m-\u001b[39mplen:]\n\u001b[1;32m   1117\u001b[0m \u001b[39mself\u001b[39m\u001b[39m.\u001b[39mstate \u001b[39m=\u001b[39m state\n\u001b[0;32m-> 1118\u001b[0m p\u001b[39m.\u001b[39;49mcallable(pslice)\n\u001b[1;32m   1119\u001b[0m \u001b[39mdel\u001b[39;00m statestack[\u001b[39m-\u001b[39mplen:]\n\u001b[1;32m   1120\u001b[0m symstack\u001b[39m.\u001b[39mappend(sym)\n",
      "File \u001b[0;32m~/miniconda3/envs/tensorflow/lib/python3.10/site-packages/pycparser/c_parser.py:571\u001b[0m, in \u001b[0;36mCParser.p_pp_directive\u001b[0;34m(self, p)\u001b[0m\n\u001b[1;32m    568\u001b[0m \u001b[39mdef\u001b[39;00m \u001b[39mp_pp_directive\u001b[39m(\u001b[39mself\u001b[39m, p):\n\u001b[1;32m    569\u001b[0m \u001b[39m    \u001b[39m\u001b[39m\"\"\" pp_directive  : PPHASH\u001b[39;00m\n\u001b[1;32m    570\u001b[0m \u001b[39m    \"\"\"\u001b[39;00m\n\u001b[0;32m--> 571\u001b[0m     \u001b[39mself\u001b[39;49m\u001b[39m.\u001b[39;49m_parse_error(\u001b[39m'\u001b[39;49m\u001b[39mDirectives not supported yet\u001b[39;49m\u001b[39m'\u001b[39;49m,\n\u001b[1;32m    572\u001b[0m                       \u001b[39mself\u001b[39;49m\u001b[39m.\u001b[39;49m_token_coord(p, \u001b[39m1\u001b[39;49m))\n",
      "File \u001b[0;32m~/miniconda3/envs/tensorflow/lib/python3.10/site-packages/pycparser/plyparser.py:67\u001b[0m, in \u001b[0;36mPLYParser._parse_error\u001b[0;34m(self, msg, coord)\u001b[0m\n\u001b[1;32m     66\u001b[0m \u001b[39mdef\u001b[39;00m \u001b[39m_parse_error\u001b[39m(\u001b[39mself\u001b[39m, msg, coord):\n\u001b[0;32m---> 67\u001b[0m     \u001b[39mraise\u001b[39;00m ParseError(\u001b[39m\"\u001b[39m\u001b[39m%s\u001b[39;00m\u001b[39m: \u001b[39m\u001b[39m%s\u001b[39;00m\u001b[39m\"\u001b[39m \u001b[39m%\u001b[39m (coord, msg))\n",
      "\u001b[0;31mParseError\u001b[0m: ??.c:1:1: Directives not supported yet"
     ]
    }
   ],
   "source": [
    "# text = remoded_code[152:]\n",
    "parser = c_parser.CParser()\n",
    "generator = c_generator.CGenerator()\n",
    "ast = parser.parse(text, filename='??.c')\n",
    "explore = {pycparser.c_ast.If: {'node': (),'key': 'cond', 'branches': ('iftrue', 'iffalse')}, \n",
    "                       pycparser.c_ast.FuncCall: {'node': (),'key' : 'name' , 'branches': ()},\n",
    "                       pycparser.c_ast.FuncDef: {'node': (),'key' : 'decl', 'branches': ('body',)},\n",
    "                       pycparser.c_ast.FileAST: {'node': (),'key' : 'ext[0]', 'branches': ()}\n",
    "                       } \n",
    "                    #    pycparser.c_ast.Switch: (),\n",
    "                    #    pycparser.c_ast.For: ()}\n",
    "\n",
    "If_explore = {pycparser.c_ast.BinaryOp : {'branches': ('left', 'right')}}\n",
    "\n",
    "HAMMING_WEIGHT = 4"
   ]
  },
  {
   "cell_type": "code",
   "execution_count": 7,
   "metadata": {},
   "outputs": [
    {
     "data": {
      "text/plain": [
       "FileAST(ext=[\n",
       "            ]\n",
       "        )"
      ]
     },
     "execution_count": 7,
     "metadata": {},
     "output_type": "execute_result"
    }
   ],
   "source": [
    "ast"
   ]
  },
  {
   "cell_type": "code",
   "execution_count": 19,
   "metadata": {},
   "outputs": [
    {
     "name": "stdout",
     "output_type": "stream",
     "text": [
      "int iv[16]\n"
     ]
    }
   ],
   "source": [
    "# text = 'static void iv_plain64(guint8 *iv, guint iv_size, guint64 sector)'\n",
    "text = 'guint8 iv[16] ;'\n",
    "# variable_pattern = r'\\b((?:[a-zA-Z_]\\w*\\**)\\s+\\**\\s*\\**[a-zA-Z_]\\w*)\\s*(?:,|\\s*;|\\s*=|\\s*\\))'\n",
    "variable_pattern = r'\\b((?:[a-zA-Z_]\\w*\\**)\\s+\\**\\s*\\**[a-zA-Z_]\\w*\\[*\\w*\\]*)\\s*(?:,|\\s*;|\\s*=|\\s*\\))'\n",
    "\n",
    "matches = re.findall(variable_pattern, text)\n",
    "l = [i.split()[0] for i in matches]\n",
    "for i in matches:\n",
    "    print(i.split()[0].replace(i.split()[0], \"int \") + i.split()[1])\n",
    "    "
   ]
  },
  {
   "cell_type": "code",
   "execution_count": 8,
   "metadata": {},
   "outputs": [
    {
     "name": "stdout",
     "output_type": "stream",
     "text": [
      "#include <stdio.h> \n",
      "int main ( void )  {     \n",
      "  printf ( \"Executing critical code...\\n\" )  ; \n",
      "  return 0 ; \n",
      "}\n",
      "\n",
      "              \n"
     ]
    }
   ],
   "source": [
    "print(remoded_code)"
   ]
  }
 ],
 "metadata": {
  "kernelspec": {
   "display_name": "tensorflow",
   "language": "python",
   "name": "python3"
  },
  "language_info": {
   "codemirror_mode": {
    "name": "ipython",
    "version": 3
   },
   "file_extension": ".py",
   "mimetype": "text/x-python",
   "name": "python",
   "nbconvert_exporter": "python",
   "pygments_lexer": "ipython3",
   "version": "3.10.13"
  },
  "orig_nbformat": 4
 },
 "nbformat": 4,
 "nbformat_minor": 2
}
