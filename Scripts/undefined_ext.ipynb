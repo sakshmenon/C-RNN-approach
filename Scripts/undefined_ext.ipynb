{
 "cells": [
  {
   "cell_type": "code",
   "execution_count": 2,
   "metadata": {},
   "outputs": [
    {
     "name": "stderr",
     "output_type": "stream",
     "text": [
      "2024-04-23 22:03:21.530928: I tensorflow/core/common_runtime/pluggable_device/pluggable_device_factory.cc:303] Could not identify NUMA node of platform GPU ID 0, defaulting to 0. Your kernel may not have been built with NUMA support.\n",
      "2024-04-23 22:03:21.530960: I tensorflow/core/common_runtime/pluggable_device/pluggable_device_factory.cc:269] Created TensorFlow device (/device:GPU:0 with 0 MB memory) -> physical PluggableDevice (device: 0, name: METAL, pci bus id: <undefined>)\n"
     ]
    }
   ],
   "source": [
    "import sys\n",
    "\n",
    "sys.path.extend(['.', '..'])\n",
    "\n",
    "import platform\n",
    "import os\n",
    "import numpy as np\n",
    "import tensorflow as tf\n",
    "import keras\n",
    "from keras import layers\n",
    "import pandas as pd\n",
    "\n",
    "gpu_token = tf.test.is_gpu_available('GPU')\n",
    "\n",
    "if platform.machine() == 'arm64':\n",
    "    os.chdir(\"/Users/saksh.menon/Documents/GitHub/C-RNN-approach/dataset\")\n",
    "\n",
    "from pycparser import c_parser, c_generator\n",
    "import pycparser\n",
    "from Utils.w2b_encoding_pt import *\n",
    "from Utils.cparser_dataframe_gen import *\n"
   ]
  },
  {
   "cell_type": "code",
   "execution_count": 4,
   "metadata": {},
   "outputs": [],
   "source": [
    "raw_code, comments = code_preprocessing('git.c') # remove comments\n",
    "uvt, moded_code = find_undefined_types_in_variables(raw_code, gpu_token) # replacing undefined types in variables with 'int' \n",
    "uft, remoded_code = find_undefined_function_types(moded_code) # replacing undefined function types with 'int'"
   ]
  },
  {
   "cell_type": "code",
   "execution_count": 5,
   "metadata": {},
   "outputs": [
    {
     "data": {
      "text/plain": [
       "'static int rbuf_hash_cb ( void *instance , void *env ) {   int *r = ( int * ) instance ;     ( void ) env ;    return theft_hash_onepass ( r->buf , r->size ) ;  }'"
      ]
     },
     "execution_count": 5,
     "metadata": {},
     "output_type": "execute_result"
    }
   ],
   "source": [
    "text = remoded_code.replace(\"  \",\" \").split('\\n')\n",
    "text = \" \".join(text)\n",
    "text"
   ]
  },
  {
   "cell_type": "code",
   "execution_count": 6,
   "metadata": {},
   "outputs": [],
   "source": [
    "# text = remoded_code[152:]\n",
    "parser = c_parser.CParser()\n",
    "generator = c_generator.CGenerator()\n",
    "ast = parser.parse(text, filename='??.c')\n",
    "explore = {pycparser.c_ast.If: {'node': (),'key': 'cond', 'branches': ('iftrue', 'iffalse')}, \n",
    "                       pycparser.c_ast.FuncCall: {'node': (),'key' : 'name' , 'branches': ()},\n",
    "                       pycparser.c_ast.FuncDef: {'node': (),'key' : 'decl', 'branches': ('body',)},\n",
    "                       pycparser.c_ast.FileAST: {'node': (),'key' : 'ext[0]', 'branches': ()}\n",
    "                       } \n",
    "                    #    pycparser.c_ast.Switch: (),\n",
    "                    #    pycparser.c_ast.For: ()}\n",
    "\n",
    "If_explore = {pycparser.c_ast.BinaryOp : {'branches': ('left', 'right')}}\n",
    "\n",
    "HAMMING_WEIGHT = 4"
   ]
  },
  {
   "cell_type": "code",
   "execution_count": 7,
   "metadata": {},
   "outputs": [
    {
     "data": {
      "text/plain": [
       "FileAST(ext=[FuncDef(decl=Decl(name='rbuf_hash_cb',\n",
       "                               quals=[\n",
       "                                     ],\n",
       "                               align=[\n",
       "                                     ],\n",
       "                               storage=['static'\n",
       "                                       ],\n",
       "                               funcspec=[\n",
       "                                        ],\n",
       "                               type=FuncDecl(args=ParamList(params=[Decl(name='instance',\n",
       "                                                                         quals=[\n",
       "                                                                               ],\n",
       "                                                                         align=[\n",
       "                                                                               ],\n",
       "                                                                         storage=[\n",
       "                                                                                 ],\n",
       "                                                                         funcspec=[\n",
       "                                                                                  ],\n",
       "                                                                         type=PtrDecl(quals=[\n",
       "                                                                                            ],\n",
       "                                                                                      type=TypeDecl(declname='instance',\n",
       "                                                                                                    quals=[\n",
       "                                                                                                          ],\n",
       "                                                                                                    align=None,\n",
       "                                                                                                    type=IdentifierType(names=['void'\n",
       "                                                                                                                              ]\n",
       "                                                                                                                        )\n",
       "                                                                                                    )\n",
       "                                                                                      ),\n",
       "                                                                         init=None,\n",
       "                                                                         bitsize=None\n",
       "                                                                         ),\n",
       "                                                                    Decl(name='env',\n",
       "                                                                         quals=[\n",
       "                                                                               ],\n",
       "                                                                         align=[\n",
       "                                                                               ],\n",
       "                                                                         storage=[\n",
       "                                                                                 ],\n",
       "                                                                         funcspec=[\n",
       "                                                                                  ],\n",
       "                                                                         type=PtrDecl(quals=[\n",
       "                                                                                            ],\n",
       "                                                                                      type=TypeDecl(declname='env',\n",
       "                                                                                                    quals=[\n",
       "                                                                                                          ],\n",
       "                                                                                                    align=None,\n",
       "                                                                                                    type=IdentifierType(names=['void'\n",
       "                                                                                                                              ]\n",
       "                                                                                                                        )\n",
       "                                                                                                    )\n",
       "                                                                                      ),\n",
       "                                                                         init=None,\n",
       "                                                                         bitsize=None\n",
       "                                                                         )\n",
       "                                                                   ]\n",
       "                                                            ),\n",
       "                                             type=TypeDecl(declname='rbuf_hash_cb',\n",
       "                                                           quals=[\n",
       "                                                                 ],\n",
       "                                                           align=None,\n",
       "                                                           type=IdentifierType(names=['int'\n",
       "                                                                                     ]\n",
       "                                                                               )\n",
       "                                                           )\n",
       "                                             ),\n",
       "                               init=None,\n",
       "                               bitsize=None\n",
       "                               ),\n",
       "                     param_decls=None,\n",
       "                     body=Compound(block_items=[Decl(name='r',\n",
       "                                                     quals=[\n",
       "                                                           ],\n",
       "                                                     align=[\n",
       "                                                           ],\n",
       "                                                     storage=[\n",
       "                                                             ],\n",
       "                                                     funcspec=[\n",
       "                                                              ],\n",
       "                                                     type=PtrDecl(quals=[\n",
       "                                                                        ],\n",
       "                                                                  type=TypeDecl(declname='r',\n",
       "                                                                                quals=[\n",
       "                                                                                      ],\n",
       "                                                                                align=None,\n",
       "                                                                                type=IdentifierType(names=['int'\n",
       "                                                                                                          ]\n",
       "                                                                                                    )\n",
       "                                                                                )\n",
       "                                                                  ),\n",
       "                                                     init=Cast(to_type=Typename(name=None,\n",
       "                                                                                quals=[\n",
       "                                                                                      ],\n",
       "                                                                                align=None,\n",
       "                                                                                type=PtrDecl(quals=[\n",
       "                                                                                                   ],\n",
       "                                                                                             type=TypeDecl(declname=None,\n",
       "                                                                                                           quals=[\n",
       "                                                                                                                 ],\n",
       "                                                                                                           align=None,\n",
       "                                                                                                           type=IdentifierType(names=['int'\n",
       "                                                                                                                                     ]\n",
       "                                                                                                                               )\n",
       "                                                                                                           )\n",
       "                                                                                             )\n",
       "                                                                                ),\n",
       "                                                               expr=ID(name='instance'\n",
       "                                                                       )\n",
       "                                                               ),\n",
       "                                                     bitsize=None\n",
       "                                                     ),\n",
       "                                                Cast(to_type=Typename(name=None,\n",
       "                                                                      quals=[\n",
       "                                                                            ],\n",
       "                                                                      align=None,\n",
       "                                                                      type=TypeDecl(declname=None,\n",
       "                                                                                    quals=[\n",
       "                                                                                          ],\n",
       "                                                                                    align=None,\n",
       "                                                                                    type=IdentifierType(names=['void'\n",
       "                                                                                                              ]\n",
       "                                                                                                        )\n",
       "                                                                                    )\n",
       "                                                                      ),\n",
       "                                                     expr=ID(name='env'\n",
       "                                                             )\n",
       "                                                     ),\n",
       "                                                Return(expr=FuncCall(name=ID(name='theft_hash_onepass'\n",
       "                                                                             ),\n",
       "                                                                     args=ExprList(exprs=[StructRef(name=ID(name='r'\n",
       "                                                                                                            ),\n",
       "                                                                                                    type='->',\n",
       "                                                                                                    field=ID(name='buf'\n",
       "                                                                                                             )\n",
       "                                                                                                    ),\n",
       "                                                                                          StructRef(name=ID(name='r'\n",
       "                                                                                                            ),\n",
       "                                                                                                    type='->',\n",
       "                                                                                                    field=ID(name='size'\n",
       "                                                                                                             )\n",
       "                                                                                                    )\n",
       "                                                                                         ]\n",
       "                                                                                   )\n",
       "                                                                     )\n",
       "                                                       )\n",
       "                                               ]\n",
       "                                   )\n",
       "                     )\n",
       "            ]\n",
       "        )"
      ]
     },
     "execution_count": 7,
     "metadata": {},
     "output_type": "execute_result"
    }
   ],
   "source": [
    "ast"
   ]
  },
  {
   "cell_type": "code",
   "execution_count": 19,
   "metadata": {},
   "outputs": [
    {
     "name": "stdout",
     "output_type": "stream",
     "text": [
      "int iv[16]\n"
     ]
    }
   ],
   "source": [
    "# text = 'static void iv_plain64(guint8 *iv, guint iv_size, guint64 sector)'\n",
    "text = 'guint8 iv[16] ;'\n",
    "# variable_pattern = r'\\b((?:[a-zA-Z_]\\w*\\**)\\s+\\**\\s*\\**[a-zA-Z_]\\w*)\\s*(?:,|\\s*;|\\s*=|\\s*\\))'\n",
    "variable_pattern = r'\\b((?:[a-zA-Z_]\\w*\\**)\\s+\\**\\s*\\**[a-zA-Z_]\\w*\\[*\\w*\\]*)\\s*(?:,|\\s*;|\\s*=|\\s*\\))'\n",
    "\n",
    "matches = re.findall(variable_pattern, text)\n",
    "l = [i.split()[0] for i in matches]\n",
    "for i in matches:\n",
    "    print(i.split()[0].replace(i.split()[0], \"int \") + i.split()[1])\n",
    "    "
   ]
  },
  {
   "cell_type": "code",
   "execution_count": 8,
   "metadata": {},
   "outputs": [
    {
     "name": "stdout",
     "output_type": "stream",
     "text": [
      "#include <stdio.h> \n",
      "int main ( void )  {     \n",
      "  printf ( \"Executing critical code...\\n\" )  ; \n",
      "  return 0 ; \n",
      "}\n",
      "\n",
      "              \n"
     ]
    }
   ],
   "source": [
    "print(remoded_code)"
   ]
  }
 ],
 "metadata": {
  "kernelspec": {
   "display_name": "tensorflow",
   "language": "python",
   "name": "python3"
  },
  "language_info": {
   "codemirror_mode": {
    "name": "ipython",
    "version": 3
   },
   "file_extension": ".py",
   "mimetype": "text/x-python",
   "name": "python",
   "nbconvert_exporter": "python",
   "pygments_lexer": "ipython3",
   "version": "3.10.13"
  },
  "orig_nbformat": 4
 },
 "nbformat": 4,
 "nbformat_minor": 2
}
