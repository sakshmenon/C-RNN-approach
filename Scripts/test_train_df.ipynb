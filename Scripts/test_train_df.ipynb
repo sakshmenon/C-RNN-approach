{
 "cells": [
  {
   "cell_type": "code",
   "execution_count": 135,
   "metadata": {},
   "outputs": [],
   "source": [
    "import os\n",
    "import pandas as pd"
   ]
  },
  {
   "cell_type": "code",
   "execution_count": 136,
   "metadata": {},
   "outputs": [],
   "source": [
    "df = pd.read_excel(\"/home/sakshmeno/Documents/GitHub/C-RNN-approach/Labels/Labelling_Prateek_Guillermo.xlsx\")"
   ]
  },
  {
   "cell_type": "code",
   "execution_count": 137,
   "metadata": {},
   "outputs": [],
   "source": [
    "def code_preprocessing(file):\n",
    "    with open(file) as dataset_obj:\n",
    "        codeLines = dataset_obj.read()\n",
    "    comment_lines = []\n",
    "    raw_codeLines = codeLines.replace(\"\\t\",\"\").split(\"\\n\")\n",
    "    multi_line_flag = 0\n",
    "    for line_number in range(len(raw_codeLines)):\n",
    "        if multi_line_flag:\n",
    "            if raw_codeLines[line_number].__contains__(\"*/\"):\n",
    "                multi_line_flag = 0\n",
    "            comment_lines.append(line_number)\n",
    "        elif raw_codeLines[line_number].__contains__(\"/*\"):\n",
    "            if raw_codeLines[line_number].startswith(\"/*\") and not(raw_codeLines[line_number].__contains__(\"*/\")):\n",
    "                comment_lines.append(line_number)\n",
    "                multi_line_flag = 1\n",
    "            elif raw_codeLines[line_number].__contains__(\"/*\") and not(raw_codeLines[line_number].startswith(\"/*\")):\n",
    "                if raw_codeLines[line_number].__contains__(\"*/\"):\n",
    "                    psuedo_multi_line_start = raw_codeLines[line_number].find(\"/*\")\n",
    "                    psuedo_multi_line_end = raw_codeLines[line_number].find(\"*/\")\n",
    "                    temporary_line = raw_codeLines[line_number][:psuedo_multi_line_start] + raw_codeLines[line_number][psuedo_multi_line_end+2:]\n",
    "                    raw_codeLines[line_number] = temporary_line\n",
    "\n",
    "        elif raw_codeLines[line_number].startswith(\"//\"):\n",
    "            comment_lines.append(line_number)\n",
    "        elif raw_codeLines[line_number].__contains__(\"//\"):\n",
    "            comment_start = raw_codeLines[line_number].find('//')\n",
    "            raw_codeLines[line_number] = raw_codeLines[line_number][:comment_start]\n",
    "    \n",
    "    \n",
    "\n",
    "    comment_lines.reverse()\n",
    "    for i in comment_lines:\n",
    "        raw_codeLines.pop(i)\n",
    "\n",
    "    def insert_space(string, index):\n",
    "        string_copy = \"\"\n",
    "        for i in range(len(string)):\n",
    "            if i==(index):\n",
    "                string_copy += \" \"\n",
    "                string_copy += string[i]\n",
    "                string_copy += \" \"\n",
    "                continue\n",
    "            string_copy += string[i]\n",
    "        return string_copy\n",
    "\n",
    "    def find_char_indices(input_string, char):\n",
    "        indices = []\n",
    "        replacement_token = 0\n",
    "        for index, character in enumerate(input_string):\n",
    "            if character == char:\n",
    "                indices.append(index + 2*replacement_token)\n",
    "                replacement_token+=1\n",
    "        return indices\n",
    "\n",
    "    def space_out(string, char):\n",
    "        indices = find_char_indices(string, char)\n",
    "\n",
    "        for i in indices:\n",
    "            string = insert_space(string, i)\n",
    "        return string\n",
    "\n",
    "    for line_number in range(len(raw_codeLines)):\n",
    "        placeHolder = raw_codeLines[line_number]\n",
    "        placeHolder = space_out(placeHolder, \";\")\n",
    "        placeHolder = space_out(placeHolder, \"(\")\n",
    "        placeHolder = space_out(placeHolder, \")\")\n",
    "        placeHolder = space_out(placeHolder, \",\")\n",
    "        if placeHolder.endswith(\";\"):\n",
    "            raw_codeLines[line_number] = \"<start> \" + placeHolder.replace(\";\",\"<end>\")\n",
    "        elif not(placeHolder.endswith(\";\")):\n",
    "            raw_codeLines[line_number] = \"<start> \" + placeHolder + \" <end>\"\n",
    "\n",
    "    return raw_codeLines\n"
   ]
  },
  {
   "cell_type": "code",
   "execution_count": 138,
   "metadata": {},
   "outputs": [],
   "source": [
    "def comment_finder(file):\n",
    "    with open(file) as dataset_obj:\n",
    "        codeLines = dataset_obj.read()\n",
    "        comment_lines = []\n",
    "        raw_codeLines = codeLines.replace(\"\\t\",\"\").split(\"\\n\")\n",
    "        multi_line_flag = 0\n",
    "        for line_number in range(len(raw_codeLines)):\n",
    "            if multi_line_flag:\n",
    "                if raw_codeLines[line_number].__contains__(\"*/\"):\n",
    "                    multi_line_flag = 0\n",
    "                comment_lines.append(line_number)\n",
    "            elif raw_codeLines[line_number].__contains__(\"/*\"):\n",
    "                if raw_codeLines[line_number].startswith(\"/*\") and not(raw_codeLines[line_number].__contains__(\"*/\")):\n",
    "                    comment_lines.append(line_number)\n",
    "                    multi_line_flag = 1\n",
    "                elif raw_codeLines[line_number].__contains__(\"/*\") and not(raw_codeLines[line_number].startswith(\"/*\")):\n",
    "                    if raw_codeLines[line_number].__contains__(\"*/\"):\n",
    "                        psuedo_multi_line_start = raw_codeLines[line_number].find(\"/*\")\n",
    "                        psuedo_multi_line_end = raw_codeLines[line_number].find(\"*/\")\n",
    "                        temporary_line = raw_codeLines[line_number][:psuedo_multi_line_start] + raw_codeLines[line_number][psuedo_multi_line_end+2:]\n",
    "                        raw_codeLines[line_number] = temporary_line\n",
    "\n",
    "            elif raw_codeLines[line_number].startswith(\"//\"):\n",
    "                comment_lines.append(line_number)\n",
    "            elif raw_codeLines[line_number].__contains__(\"//\"):\n",
    "                comment_start = raw_codeLines[line_number].find('//')\n",
    "                raw_codeLines[line_number] = raw_codeLines[line_number][:comment_start]\n",
    "    return comment_lines"
   ]
  },
  {
   "cell_type": "code",
   "execution_count": 139,
   "metadata": {},
   "outputs": [],
   "source": [
    "file_start = {}\n",
    "for i in range(len(df['File'])):\n",
    "    if pd.isnull(df['File'][i]) == False:\n",
    "        file_start[df['File'][i]] = i\n",
    "\n",
    "BOTTOM_LINE = file_start['TOTAL NO. OF FILES']\n",
    "file_list = list(file_start.keys())[:-1]\n",
    "file_vulnerabilities = {}\n",
    "\n",
    "for i in range(len(file_list)-1):\n",
    "    vulnerable_lines=[]\n",
    "    for j in range(file_start[file_list[i]],file_start[file_list[i+1]]-1):\n",
    "        if (df['Comment'][j].split('|')[1].split()[0]) == \"BRANCH:\":\n",
    "            if (pd.isna(df.at[j,'False Positive'])):\n",
    "                vulnerable_lines.append(int(df['Comment'][j].split('|')[0].split()[1]))\n",
    "        if (not(pd.isna(df.at[j,'Lines Missed']))):\n",
    "            if (not(pd.isna(df.at[j,'Branch.1']))):\n",
    "                line = df['Lines Missed'][j].split()\n",
    "                if (not(line[0].isnumeric())):\n",
    "                    vulnerable_lines.append(int(line[1].strip(\":\")))\n",
    "                else:\n",
    "                    vulnerable_lines.append(int(line[0].strip(\":\")))\n",
    "    vulnerable_lines.sort()\n",
    "\n",
    "    file_vulnerabilities[file_list[i]]=vulnerable_lines\n",
    "\n",
    "file_list = file_list[:-1]"
   ]
  },
  {
   "cell_type": "code",
   "execution_count": 140,
   "metadata": {},
   "outputs": [],
   "source": [
    "os.chdir(\"/home/sakshmeno/Documents/GitHub/C-RNN-approach/dataset\")\n",
    "for file in file_list:\n",
    "    comments = comment_finder(file)\n",
    "    for vul_line in range(len(file_vulnerabilities[file])):\n",
    "        for num in range(len(comments)):\n",
    "            if num == len(comments)-1:\n",
    "                (file_vulnerabilities[file][vul_line]) = ((file_vulnerabilities[file][vul_line])-(len(comments)))\n",
    "            elif comments[num] < (file_vulnerabilities[file][vul_line]):\n",
    "                None\n",
    "            elif comments[num] > (file_vulnerabilities[file][vul_line]):\n",
    "                (file_vulnerabilities[file][vul_line]) = ((file_vulnerabilities[file][vul_line])-(num+1))\n",
    "                break\n"
   ]
  },
  {
   "cell_type": "code",
   "execution_count": 141,
   "metadata": {},
   "outputs": [
    {
     "data": {
      "text/plain": [
       "[58, 112, 124, 187]"
      ]
     },
     "execution_count": 141,
     "metadata": {},
     "output_type": "execute_result"
    }
   ],
   "source": [
    "file_vulnerabilities[file]"
   ]
  },
  {
   "cell_type": "code",
   "execution_count": 144,
   "metadata": {},
   "outputs": [
    {
     "data": {
      "text/plain": [
       "237"
      ]
     },
     "execution_count": 144,
     "metadata": {},
     "output_type": "execute_result"
    }
   ],
   "source": [
    "code = code_preprocessing(file)\n",
    "len(code)"
   ]
  },
  {
   "cell_type": "code",
   "execution_count": 145,
   "metadata": {},
   "outputs": [],
   "source": [
    "labeled_dataset = {'Lines':[], 'Label':[]}\n",
    "labeled_dataset = pd.DataFrame(labeled_dataset)\n",
    "labeled_dataset\n",
    "\n",
    "for file in file_list:\n",
    "    code = code_preprocessing(file)\n",
    "    for line in range(len(code)):\n",
    "        if (line) in file_vulnerabilities[file]:\n",
    "            data = {'Lines': code[line], 'Label': 'Insecure'}\n",
    "        else:\n",
    "            data = {'Lines': code[line], 'Label': 'Secure'}\n",
    "        labeled_dataset.loc[len(labeled_dataset)] = data"
   ]
  },
  {
   "cell_type": "code",
   "execution_count": 153,
   "metadata": {},
   "outputs": [
    {
     "data": {
      "text/plain": [
       "'<start> if ( FSInit (  ) !=TRUE )                            <end>'"
      ]
     },
     "execution_count": 153,
     "metadata": {},
     "output_type": "execute_result"
    }
   ],
   "source": [
    "labeled_dataset.loc[170]['Lines']"
   ]
  }
 ],
 "metadata": {
  "kernelspec": {
   "display_name": "Python 3",
   "language": "python",
   "name": "python3"
  },
  "language_info": {
   "codemirror_mode": {
    "name": "ipython",
    "version": 3
   },
   "file_extension": ".py",
   "mimetype": "text/x-python",
   "name": "python",
   "nbconvert_exporter": "python",
   "pygments_lexer": "ipython3",
   "version": "3.10.12"
  }
 },
 "nbformat": 4,
 "nbformat_minor": 2
}
