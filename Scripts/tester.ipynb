{
 "cells": [
  {
   "cell_type": "code",
   "execution_count": 28,
   "metadata": {},
   "outputs": [],
   "source": [
    "import sys\n",
    "import platform\n",
    "\n",
    "if platform.machine() == 'arm64':\n",
    "    pth = \"/Users/saksh.menon/Documents/GitHub/C-RNN-approach\"\n",
    "elif platform.machine() == 'x86_64':\n",
    "    pth = '/home/sakshmeno/Documents/GitHub/C-RNN-approach'\n",
    "\n",
    "sys.path.append(pth)\n",
    "from Utils.OneHotGen import *\n",
    "\n",
    "\n",
    "import Utils\n",
    "import numpy as np\n"
   ]
  },
  {
   "cell_type": "code",
   "execution_count": 20,
   "metadata": {},
   "outputs": [],
   "source": [
    "# df = dataframe_gen.dataframe_init()\n",
    "df_obj = Utils.dataframe_gen\n",
    "df = df_obj.dataframe_init()"
   ]
  },
  {
   "cell_type": "code",
   "execution_count": 37,
   "metadata": {},
   "outputs": [
    {
     "ename": "NameError",
     "evalue": "name 'dataframe_gen' is not defined",
     "output_type": "error",
     "traceback": [
      "\u001b[0;31m---------------------------------------------------------------------------\u001b[0m",
      "\u001b[0;31mNameError\u001b[0m                                 Traceback (most recent call last)",
      "Cell \u001b[0;32mIn[37], line 1\u001b[0m\n\u001b[0;32m----> 1\u001b[0m OHE_df \u001b[39m=\u001b[39m OHV_init()\n",
      "File \u001b[0;32m~/Documents/GitHub/C-RNN-approach/Utils/OneHotGen.py:50\u001b[0m, in \u001b[0;36mOHV_init\u001b[0;34m()\u001b[0m\n\u001b[1;32m     49\u001b[0m \u001b[39mdef\u001b[39;00m \u001b[39mOHV_init\u001b[39m():\n\u001b[0;32m---> 50\u001b[0m     vocab, df \u001b[39m=\u001b[39m tokenize()\n\u001b[1;32m     51\u001b[0m     global_one_hot_vectors, gloabl_OHV_dictionary \u001b[39m=\u001b[39m one_hot_encode(vocab\u001b[39m.\u001b[39mkeys(), vocab)\n\u001b[1;32m     52\u001b[0m     df \u001b[39m=\u001b[39m vectorize_and_padd(df, gloabl_OHV_dictionary)\n",
      "File \u001b[0;32m~/Documents/GitHub/C-RNN-approach/Utils/OneHotGen.py:5\u001b[0m, in \u001b[0;36mtokenize\u001b[0;34m()\u001b[0m\n\u001b[1;32m      4\u001b[0m \u001b[39mdef\u001b[39;00m \u001b[39mtokenize\u001b[39m():\n\u001b[0;32m----> 5\u001b[0m     df \u001b[39m=\u001b[39m dataframe_gen\u001b[39m.\u001b[39mdataframe_init()\n\u001b[1;32m      7\u001b[0m     x_vec \u001b[39m=\u001b[39m df[\u001b[39m'\u001b[39m\u001b[39mLines\u001b[39m\u001b[39m'\u001b[39m]\n\u001b[1;32m      8\u001b[0m     y_vec \u001b[39m=\u001b[39m df[\u001b[39m'\u001b[39m\u001b[39mLabel\u001b[39m\u001b[39m'\u001b[39m]\n",
      "\u001b[0;31mNameError\u001b[0m: name 'dataframe_gen' is not defined"
     ]
    }
   ],
   "source": [
    "OHE_df = OHV_init()"
   ]
  }
 ],
 "metadata": {
  "kernelspec": {
   "display_name": "Python 3.10 (tensorflow)",
   "language": "python",
   "name": "tensorflow"
  },
  "language_info": {
   "codemirror_mode": {
    "name": "ipython",
    "version": 3
   },
   "file_extension": ".py",
   "mimetype": "text/x-python",
   "name": "python",
   "nbconvert_exporter": "python",
   "pygments_lexer": "ipython3",
   "version": "3.10.13"
  }
 },
 "nbformat": 4,
 "nbformat_minor": 2
}
