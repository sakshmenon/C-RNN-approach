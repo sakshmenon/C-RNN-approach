{
 "cells": [
  {
   "cell_type": "code",
   "execution_count": 19,
   "metadata": {},
   "outputs": [],
   "source": [
    "import sys\n",
    "import platform\n",
    "\n",
    "if platform.machine() == 'arm64':\n",
    "    pth = \"/Users/saksh.menon/Documents/GitHub/C-RNN-approach\"\n",
    "elif platform.machine() == 'x86_64':\n",
    "    pth = '/home/sakshmeno/Documents/GitHub/C-RNN-approach'\n",
    "\n",
    "sys.path.append(pth)\n",
    "\n",
    "\n",
    "import Utils\n",
    "import numpy as np\n"
   ]
  },
  {
   "cell_type": "code",
   "execution_count": 20,
   "metadata": {},
   "outputs": [],
   "source": [
    "# df = dataframe_gen.dataframe_init()\n",
    "df_obj = Utils.dataframe_gen\n",
    "df = df_obj.dataframe_init()"
   ]
  },
  {
   "cell_type": "code",
   "execution_count": 22,
   "metadata": {},
   "outputs": [],
   "source": [
    "import os\n",
    "os.chdir(\"/Users/saksh.menon/Documents/GitHub/C-RNN-approach/Utils\")"
   ]
  },
  {
   "cell_type": "code",
   "execution_count": null,
   "metadata": {},
   "outputs": [],
   "source": [
    "ohe_obj = Utils."
   ]
  }
 ],
 "metadata": {
  "kernelspec": {
   "display_name": "Python 3.10 (tensorflow)",
   "language": "python",
   "name": "tensorflow"
  },
  "language_info": {
   "codemirror_mode": {
    "name": "ipython",
    "version": 3
   },
   "file_extension": ".py",
   "mimetype": "text/x-python",
   "name": "python",
   "nbconvert_exporter": "python",
   "pygments_lexer": "ipython3",
   "version": "3.10.13"
  }
 },
 "nbformat": 4,
 "nbformat_minor": 2
}
