{
 "cells": [
  {
   "cell_type": "code",
   "execution_count": 10,
   "metadata": {},
   "outputs": [],
   "source": [
    "import os\n",
    "import pandas as pd"
   ]
  },
  {
   "cell_type": "code",
   "execution_count": 8,
   "metadata": {},
   "outputs": [],
   "source": [
    "cur_dir = os.chdir(\"/Users/saksh.menon/Documents/GitHub/C-RNN-approach/dataset/\")"
   ]
  },
  {
   "cell_type": "code",
   "execution_count": 28,
   "metadata": {},
   "outputs": [],
   "source": [
    "df = pd.read_excel(\"/Users/saksh.menon/Documents/GitHub/C-RNN-approach/Labelling_Prateek_Guillermo.xlsx\")"
   ]
  },
  {
   "cell_type": "code",
   "execution_count": 46,
   "metadata": {},
   "outputs": [
    {
     "name": "stdout",
     "output_type": "stream",
     "text": [
      "0\n",
      "100\n",
      "125\n",
      "139\n",
      "219\n",
      "300\n",
      "318\n",
      "390\n",
      "409\n",
      "445\n",
      "467\n",
      "551\n",
      "581\n",
      "629\n",
      "640\n",
      "687\n",
      "688\n"
     ]
    }
   ],
   "source": [
    "file_boundaries = {}\n",
    "for row_num in range(df['File'].size):\n",
    "    if (pd.isnull(df['File'][row_num])==False):\n",
    "        file_boundaries[df['File'][row_num]] = str(row_num)\n",
    "    \n",
    "for i in file_boundaries.keys():\n",
    "    print(file_boundaries[i])\n",
    "\n"
   ]
  },
  {
   "cell_type": "code",
   "execution_count": 9,
   "metadata": {},
   "outputs": [
    {
     "name": "stdout",
     "output_type": "stream",
     "text": [
      "['SmartLock_HardwareDriver main.c', 'Firmament-Autopilot i2c_core.c', 'iotkit-embedded iotx_http_api.c', 'ESP8266-Firmware main.c', 'm2_fingerprint main.c', 'README', 'microFourQ schnorrq.c', 'rauc crypt.c', 'sef-project main.c', 'tc-iot-sdk-embedded main.c', 'MicroBros-SmartHome main.c', 'AX3_Firmware main.c', 'Hardware-Bitcoin-Wallet xex.c', 'TrustFlex pub_key_rotate.c', 'mbd-arduino-cashless mdb.c', 'Smart_Door_Lock main.c']\n"
     ]
    }
   ],
   "source": [
    "c_files = os.listdir(os.getcwd())\n",
    "codeLines = []\n",
    "for file in c_files:\n",
    "    with open(file, 'r') as c_file:\n",
    "        codeLines.append(\"/*\"+file+\"*/\")\n",
    "        codeLines.append(c_file.read())\n",
    "\n",
    "\n",
    "with open(\"test.txt\", \"w\") as write_c:\n",
    "    write_c.write(c_code)"
   ]
  }
 ],
 "metadata": {
  "kernelspec": {
   "display_name": "Python 3.10 (tensorflow)",
   "language": "python",
   "name": "tensorflow"
  },
  "language_info": {
   "codemirror_mode": {
    "name": "ipython",
    "version": 3
   },
   "file_extension": ".py",
   "mimetype": "text/x-python",
   "name": "python",
   "nbconvert_exporter": "python",
   "pygments_lexer": "ipython3",
   "version": "3.10.13"
  },
  "orig_nbformat": 4
 },
 "nbformat": 4,
 "nbformat_minor": 2
}
