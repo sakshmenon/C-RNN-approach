{
 "cells": [
  {
   "cell_type": "code",
   "execution_count": 2,
   "metadata": {},
   "outputs": [],
   "source": [
    "import tensorflow as tf"
   ]
  },
  {
   "cell_type": "code",
   "execution_count": 3,
   "metadata": {},
   "outputs": [
    {
     "name": "stderr",
     "output_type": "stream",
     "text": [
      "2024-02-23 02:13:36.892064: I metal_plugin/src/device/metal_device.cc:1154] Metal device set to: Apple M1\n",
      "2024-02-23 02:13:36.892086: I metal_plugin/src/device/metal_device.cc:296] systemMemory: 16.00 GB\n",
      "2024-02-23 02:13:36.892094: I metal_plugin/src/device/metal_device.cc:313] maxCacheSize: 5.33 GB\n",
      "2024-02-23 02:13:36.892166: I tensorflow/core/common_runtime/pluggable_device/pluggable_device_factory.cc:303] Could not identify NUMA node of platform GPU ID 0, defaulting to 0. Your kernel may not have been built with NUMA support.\n",
      "2024-02-23 02:13:36.892187: I tensorflow/core/common_runtime/pluggable_device/pluggable_device_factory.cc:269] Created TensorFlow device (/job:localhost/replica:0/task:0/device:GPU:0 with 0 MB memory) -> physical PluggableDevice (device: 0, name: METAL, pci bus id: <undefined>)\n"
     ]
    }
   ],
   "source": [
    "text_ds = tf.data.TextLineDataset(\"/Users/saksh.menon/Documents/GitHub/C-RNN-approach/manual_dataset/FILTERED_DATASET.txt\").filter(lambda x: tf.cast(tf.strings.length(x), bool))"
   ]
  },
  {
   "cell_type": "code",
   "execution_count": 4,
   "metadata": {},
   "outputs": [
    {
     "data": {
      "text/plain": [
       "['#include <stdio.h>\\n',\n",
       " '\\n',\n",
       " 'int main(void)\\n',\n",
       " '{\\n',\n",
       " '    int result = 1;\\n',\n",
       " '    if (result == 1)\\n',\n",
       " '    {\\n',\n",
       " '        printf(\"Executing critical code...\\\\n\");\\n',\n",
       " '    }\\n',\n",
       " '    else\\n',\n",
       " '    {\\n',\n",
       " '        printf(\"Exiting out...\\\\n\");\\n',\n",
       " '        return 1;\\n',\n",
       " '    }\\n',\n",
       " '\\n',\n",
       " '    return 0;\\n',\n",
       " '}\\n']"
      ]
     },
     "execution_count": 4,
     "metadata": {},
     "output_type": "execute_result"
    }
   ],
   "source": [
    "codelines = []\n",
    "with open('FILTERED_DATASET.txt') as obj:\n",
    "    codelines = obj.readlines()\n",
    "\n",
    "codelines"
   ]
  },
  {
   "cell_type": "code",
   "execution_count": 5,
   "metadata": {},
   "outputs": [],
   "source": [
    "from sklearn.feature_extraction.text import TfidfVectorizer"
   ]
  },
  {
   "cell_type": "code",
   "execution_count": 6,
   "metadata": {},
   "outputs": [
    {
     "data": {
      "text/plain": [
       "<17x15 sparse matrix of type '<class 'numpy.float64'>'\n",
       "\twith 19 stored elements in Compressed Sparse Row format>"
      ]
     },
     "execution_count": 6,
     "metadata": {},
     "output_type": "execute_result"
    }
   ],
   "source": [
    "vectorizer = TfidfVectorizer()\n",
    "output = vectorizer.fit_transform(codelines)\n",
    "output"
   ]
  },
  {
   "cell_type": "code",
   "execution_count": 15,
   "metadata": {},
   "outputs": [
    {
     "name": "stdout",
     "output_type": "stream",
     "text": [
      "{6: 'include', 13: 'stdio', 7: 'int', 8: 'main', 14: 'void', 11: 'result', 5: 'if', 10: 'printf', 3: 'executing', 1: 'critical', 0: 'code', 2: 'else', 4: 'exiting', 9: 'out', 12: 'return'}\n"
     ]
    }
   ],
   "source": [
    "inverse_vocab = {index: token for token, index in vectorizer.vocabulary_.items()}\n",
    "print(inverse_vocab[])\n",
    "# vectorizer.get_vocabulary()"
   ]
  },
  {
   "cell_type": "code",
   "execution_count": 36,
   "metadata": {},
   "outputs": [
    {
     "name": "stdout",
     "output_type": "stream",
     "text": [
      "[[0.         0.         0.         0.         0.         0.\n",
      "  0.70710678 0.         0.         0.         0.         0.\n",
      "  0.         0.70710678 0.        ]]\n",
      "\t=>\t \n",
      "#include <stdio.h>\n",
      "\n",
      "\n",
      "[[0. 0. 0. 0. 0. 0. 0. 0. 0. 0. 0. 0. 0. 0. 0.]]\n",
      "\t=>\t \n",
      "\n",
      "\n",
      "\n",
      "[[0.         0.         0.         0.         0.         0.\n",
      "  0.         0.52536105 0.6016626  0.         0.         0.\n",
      "  0.         0.         0.6016626 ]]\n",
      "\t=>\t \n",
      "int main(void)\n",
      "\n",
      "\n",
      "[[0. 0. 0. 0. 0. 0. 0. 0. 0. 0. 0. 0. 0. 0. 0.]]\n",
      "\t=>\t \n",
      "{\n",
      "\n",
      "\n",
      "[[0.         0.         0.         0.         0.         0.\n",
      "  0.         0.70710678 0.         0.         0.         0.70710678\n",
      "  0.         0.         0.        ]]\n",
      "\t=>\t \n",
      "    int result = 1;\n",
      "\n",
      "\n",
      "[[0.         0.         0.         0.         0.         0.75325488\n",
      "  0.         0.         0.         0.         0.         0.65772873\n",
      "  0.         0.         0.        ]]\n",
      "\t=>\t \n",
      "    if (result == 1)\n",
      "\n",
      "\n",
      "[[0. 0. 0. 0. 0. 0. 0. 0. 0. 0. 0. 0. 0. 0. 0.]]\n",
      "\t=>\t \n",
      "    {\n",
      "\n",
      "\n",
      "[[0.51554289 0.51554289 0.         0.51554289 0.         0.\n",
      "  0.         0.         0.         0.         0.45016285 0.\n",
      "  0.         0.         0.        ]]\n",
      "\t=>\t \n",
      "        printf(\"Executing critical code...\\n\");\n",
      "\n",
      "\n",
      "[[0. 0. 0. 0. 0. 0. 0. 0. 0. 0. 0. 0. 0. 0. 0.]]\n",
      "\t=>\t \n",
      "    }\n",
      "\n",
      "\n",
      "[[0. 0. 1. 0. 0. 0. 0. 0. 0. 0. 0. 0. 0. 0. 0.]]\n",
      "\t=>\t \n",
      "    else\n",
      "\n",
      "\n",
      "[[0. 0. 0. 0. 0. 0. 0. 0. 0. 0. 0. 0. 0. 0. 0.]]\n",
      "\t=>\t \n",
      "    {\n",
      "\n",
      "\n",
      "[[0.         0.         0.         0.         0.6016626  0.\n",
      "  0.         0.         0.         0.6016626  0.52536105 0.\n",
      "  0.         0.         0.        ]]\n",
      "\t=>\t \n",
      "        printf(\"Exiting out...\\n\");\n",
      "\n",
      "\n",
      "[[0. 0. 0. 0. 0. 0. 0. 0. 0. 0. 0. 0. 1. 0. 0.]]\n",
      "\t=>\t \n",
      "        return 1;\n",
      "\n",
      "\n",
      "[[0. 0. 0. 0. 0. 0. 0. 0. 0. 0. 0. 0. 0. 0. 0.]]\n",
      "\t=>\t \n",
      "    }\n",
      "\n",
      "\n",
      "[[0. 0. 0. 0. 0. 0. 0. 0. 0. 0. 0. 0. 0. 0. 0.]]\n",
      "\t=>\t \n",
      "\n",
      "\n",
      "\n",
      "[[0. 0. 0. 0. 0. 0. 0. 0. 0. 0. 0. 0. 1. 0. 0.]]\n",
      "\t=>\t \n",
      "    return 0;\n",
      "\n",
      "\n",
      "[[0. 0. 0. 0. 0. 0. 0. 0. 0. 0. 0. 0. 0. 0. 0.]]\n",
      "\t=>\t \n",
      "}\n",
      "\n",
      "\n"
     ]
    }
   ],
   "source": [
    "for i in enumerate(output):\n",
    "    print(i[1].A[:1])\n",
    "    print(\"\\t=>\\t \")\n",
    "    print(codelines[i[0]])\n",
    "    print()\n",
    "    "
   ]
  }
 ],
 "metadata": {
  "kernelspec": {
   "display_name": "Python 3.10 (tensorflow)",
   "language": "python",
   "name": "tensorflow"
  },
  "language_info": {
   "codemirror_mode": {
    "name": "ipython",
    "version": 3
   },
   "file_extension": ".py",
   "mimetype": "text/x-python",
   "name": "python",
   "nbconvert_exporter": "python",
   "pygments_lexer": "ipython3",
   "version": "3.10.13"
  },
  "orig_nbformat": 4
 },
 "nbformat": 4,
 "nbformat_minor": 2
}
